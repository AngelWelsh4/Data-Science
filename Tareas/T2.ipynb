{
 "cells": [
  {
   "cell_type": "markdown",
   "metadata": {},
   "source": [
    "# Tarea 2: Análisis de datos\n",
    "## Ciencia de datos para físicos: Facultad de ciencias, UNAM\n",
    "## Profesores: Karen Rubí Jiménez-López, Pedro Arturo Flores-Silva"
   ]
  },
  {
   "cell_type": "markdown",
   "metadata": {},
   "source": [
    "La base de datos empleada es acerca de la animación japonesa. Este contenido se obtuvo mediante la página kaggle, cuyo link del dataset es https://www.kaggle.com/datasets/harits/anime-database-2022.\n",
    "\n",
    "Contenido:\n",
    "\n",
    "* ID: identificación de anime en MyAnimeList.net\n",
    "* Title:\tEl nombre original del anime\n",
    "* Synonyms:\tEl nombre sinónimo del anime\n",
    "* Japanese:\tEl titulo del anime en japones\n",
    "* English:\tEl titulo del anime en ingles\n",
    "* Synopsis:\tEl resumen del anime\n",
    "* Type:\tTipo de anime\n",
    "* Episodes:\tNúmero de episodios en el anime\n",
    "* Status:\tEl estado de si el anime no se ha emitido, está actualmente o se ha emitido\n",
    "* Start_Aired:\tLa fecha o el año en que el anime comenzó a transmitirse\n",
    "* End_Aired:\tLa fecha o el año en que el anime terminó de transmitirse\n",
    "* Premiered:\tTemporada estrenada\n",
    "* Broadcast:\tHorario de transmisión de anime\n",
    "* Producers:\tLista de productores\n",
    "* Licensors:\tLista de licenciantes\n",
    "* Studios:\tLista de estudios\n",
    "* Source:\tLa fuente del anime\n",
    "* Genres:\tLista de géneros\n",
    "* Themes:\tLista de temas\n",
    "* Demographics:\tLista de datos demográficos\n",
    "* Duration_Minutes:\tDuración total por minuto en cada episodio\n",
    "* Rating:\tTasa de edad\n",
    "* Score:\tPuntaje promedio del anime dado por los usuarios en MyAnimeList.net\n",
    "* Scored_Users:\tNúmero de usuarios que dan puntajes al anime\n",
    "* Ranked:\tClasificación basada en la puntuación\n",
    "* Popularity:\tRanking basado en la popularidad en la que los usuarios han añadido el anime a su lista\n",
    "* Members:\tNúmero de usuarios que han agregado el anime a su lista\n",
    "* Favorites:\tNúmero de usuarios que han marcado el anime como su anime favorito"
   ]
  },
  {
   "cell_type": "code",
   "execution_count": 2,
   "metadata": {},
   "outputs": [],
   "source": [
    "import pandas as pd\n",
    "data=pd.read_csv('./Anime.csv')"
   ]
  },
  {
   "cell_type": "code",
   "execution_count": 2,
   "metadata": {},
   "outputs": [
    {
     "data": {
      "text/html": [
       "<div>\n",
       "<style scoped>\n",
       "    .dataframe tbody tr th:only-of-type {\n",
       "        vertical-align: middle;\n",
       "    }\n",
       "\n",
       "    .dataframe tbody tr th {\n",
       "        vertical-align: top;\n",
       "    }\n",
       "\n",
       "    .dataframe thead th {\n",
       "        text-align: right;\n",
       "    }\n",
       "</style>\n",
       "<table border=\"1\" class=\"dataframe\">\n",
       "  <thead>\n",
       "    <tr style=\"text-align: right;\">\n",
       "      <th></th>\n",
       "      <th>ID</th>\n",
       "      <th>Title</th>\n",
       "      <th>Synonyms</th>\n",
       "      <th>Japanese</th>\n",
       "      <th>English</th>\n",
       "      <th>Synopsis</th>\n",
       "      <th>Type</th>\n",
       "      <th>Episodes</th>\n",
       "      <th>Status</th>\n",
       "      <th>Start_Aired</th>\n",
       "      <th>...</th>\n",
       "      <th>Themes</th>\n",
       "      <th>Demographics</th>\n",
       "      <th>Duration_Minutes</th>\n",
       "      <th>Rating</th>\n",
       "      <th>Score</th>\n",
       "      <th>Scored_Users</th>\n",
       "      <th>Ranked</th>\n",
       "      <th>Popularity</th>\n",
       "      <th>Members</th>\n",
       "      <th>Favorites</th>\n",
       "    </tr>\n",
       "  </thead>\n",
       "  <tbody>\n",
       "    <tr>\n",
       "      <th>0</th>\n",
       "      <td>16498</td>\n",
       "      <td>Shingeki no Kyojin</td>\n",
       "      <td>AoT, SnK</td>\n",
       "      <td>進撃の巨人</td>\n",
       "      <td>Attack on Titan</td>\n",
       "      <td>Centuries ago, mankind was slaughtered to near...</td>\n",
       "      <td>TV</td>\n",
       "      <td>25.0</td>\n",
       "      <td>Finished Airing</td>\n",
       "      <td>Apr 7, 2013</td>\n",
       "      <td>...</td>\n",
       "      <td>Gore, Military, Survival</td>\n",
       "      <td>Shounen</td>\n",
       "      <td>24.0</td>\n",
       "      <td>R - 17+ (violence &amp; profanity)</td>\n",
       "      <td>8.531</td>\n",
       "      <td>519803.0</td>\n",
       "      <td>1002.0</td>\n",
       "      <td>1</td>\n",
       "      <td>3524109</td>\n",
       "      <td>155695</td>\n",
       "    </tr>\n",
       "    <tr>\n",
       "      <th>1</th>\n",
       "      <td>1535</td>\n",
       "      <td>Death Note</td>\n",
       "      <td>DN</td>\n",
       "      <td>デスノート</td>\n",
       "      <td>Death Note</td>\n",
       "      <td>Brutal murders, petty thefts, and senseless vi...</td>\n",
       "      <td>TV</td>\n",
       "      <td>37.0</td>\n",
       "      <td>Finished Airing</td>\n",
       "      <td>Oct 4, 2006</td>\n",
       "      <td>...</td>\n",
       "      <td>Psychological</td>\n",
       "      <td>Shounen</td>\n",
       "      <td>23.0</td>\n",
       "      <td>R - 17+ (violence &amp; profanity)</td>\n",
       "      <td>8.621</td>\n",
       "      <td>485487.0</td>\n",
       "      <td>732.0</td>\n",
       "      <td>2</td>\n",
       "      <td>3504535</td>\n",
       "      <td>159701</td>\n",
       "    </tr>\n",
       "    <tr>\n",
       "      <th>2</th>\n",
       "      <td>5114</td>\n",
       "      <td>Fullmetal Alchemist: Brotherhood</td>\n",
       "      <td>Hagane no Renkinjutsushi Fullmetal Alchemist, ...</td>\n",
       "      <td>鋼の錬金術師 FULLMETAL ALCHEMIST</td>\n",
       "      <td>Fullmetal Alchemist Brotherhood</td>\n",
       "      <td>After a horrific alchemy experiment goes wrong...</td>\n",
       "      <td>TV</td>\n",
       "      <td>64.0</td>\n",
       "      <td>Finished Airing</td>\n",
       "      <td>Apr 5, 2009</td>\n",
       "      <td>...</td>\n",
       "      <td>Military</td>\n",
       "      <td>Shounen</td>\n",
       "      <td>24.0</td>\n",
       "      <td>R - 17+ (violence &amp; profanity)</td>\n",
       "      <td>9.131</td>\n",
       "      <td>900398.0</td>\n",
       "      <td>12.0</td>\n",
       "      <td>3</td>\n",
       "      <td>2978455</td>\n",
       "      <td>207772</td>\n",
       "    </tr>\n",
       "    <tr>\n",
       "      <th>3</th>\n",
       "      <td>30276</td>\n",
       "      <td>One Punch Man</td>\n",
       "      <td>One Punch-Man, One-Punch Man, OPM</td>\n",
       "      <td>ワンパンマン</td>\n",
       "      <td>One Punch Man</td>\n",
       "      <td>The seemingly unimpressive Saitama has a rathe...</td>\n",
       "      <td>TV</td>\n",
       "      <td>12.0</td>\n",
       "      <td>Finished Airing</td>\n",
       "      <td>Oct 5, 2015</td>\n",
       "      <td>...</td>\n",
       "      <td>Parody, Super Power</td>\n",
       "      <td>Seinen</td>\n",
       "      <td>24.0</td>\n",
       "      <td>R - 17+ (violence &amp; profanity)</td>\n",
       "      <td>8.511</td>\n",
       "      <td>19066.0</td>\n",
       "      <td>1112.0</td>\n",
       "      <td>4</td>\n",
       "      <td>2879907</td>\n",
       "      <td>59651</td>\n",
       "    </tr>\n",
       "    <tr>\n",
       "      <th>4</th>\n",
       "      <td>11757</td>\n",
       "      <td>Sword Art Online</td>\n",
       "      <td>S.A.O, SAO</td>\n",
       "      <td>ソードアート・オンライン</td>\n",
       "      <td>Sword Art Online</td>\n",
       "      <td>Ever since the release of the innovative Nerve...</td>\n",
       "      <td>TV</td>\n",
       "      <td>25.0</td>\n",
       "      <td>Finished Airing</td>\n",
       "      <td>Jul 8, 2012</td>\n",
       "      <td>...</td>\n",
       "      <td>Love Polygon, Video Game</td>\n",
       "      <td>Unknown</td>\n",
       "      <td>23.0</td>\n",
       "      <td>PG-13 - Teens 13 or older</td>\n",
       "      <td>7.201</td>\n",
       "      <td>990254.0</td>\n",
       "      <td>29562.0</td>\n",
       "      <td>5</td>\n",
       "      <td>2813565</td>\n",
       "      <td>64997</td>\n",
       "    </tr>\n",
       "    <tr>\n",
       "      <th>...</th>\n",
       "      <td>...</td>\n",
       "      <td>...</td>\n",
       "      <td>...</td>\n",
       "      <td>...</td>\n",
       "      <td>...</td>\n",
       "      <td>...</td>\n",
       "      <td>...</td>\n",
       "      <td>...</td>\n",
       "      <td>...</td>\n",
       "      <td>...</td>\n",
       "      <td>...</td>\n",
       "      <td>...</td>\n",
       "      <td>...</td>\n",
       "      <td>...</td>\n",
       "      <td>...</td>\n",
       "      <td>...</td>\n",
       "      <td>...</td>\n",
       "      <td>...</td>\n",
       "      <td>...</td>\n",
       "      <td>...</td>\n",
       "      <td>...</td>\n",
       "    </tr>\n",
       "    <tr>\n",
       "      <th>21455</th>\n",
       "      <td>45064</td>\n",
       "      <td>Xiao Gongzhu Ai Wei La Yu Shenmi Wangguo</td>\n",
       "      <td>Unknown</td>\n",
       "      <td>小公主艾薇拉与神秘王国</td>\n",
       "      <td>Princess and the Kingdom</td>\n",
       "      <td>Unknown</td>\n",
       "      <td>Movie</td>\n",
       "      <td>1.0</td>\n",
       "      <td>Finished Airing</td>\n",
       "      <td>May 12, 2018</td>\n",
       "      <td>...</td>\n",
       "      <td>Unknown</td>\n",
       "      <td>Kids</td>\n",
       "      <td>78.0</td>\n",
       "      <td>G - All Ages</td>\n",
       "      <td>NaN</td>\n",
       "      <td>NaN</td>\n",
       "      <td>160892.0</td>\n",
       "      <td>21487</td>\n",
       "      <td>7</td>\n",
       "      <td>0</td>\n",
       "    </tr>\n",
       "    <tr>\n",
       "      <th>21456</th>\n",
       "      <td>45065</td>\n",
       "      <td>Xiao Gongzhu Ai Wei La Yu Shenmi Wangguo 2</td>\n",
       "      <td>Unknown</td>\n",
       "      <td>小公主艾薇拉与神秘王国2</td>\n",
       "      <td>Avera and the Mystical Kingdom 2</td>\n",
       "      <td>Unknown</td>\n",
       "      <td>Movie</td>\n",
       "      <td>1.0</td>\n",
       "      <td>Finished Airing</td>\n",
       "      <td>Aug 22, 2020</td>\n",
       "      <td>...</td>\n",
       "      <td>Unknown</td>\n",
       "      <td>Kids</td>\n",
       "      <td>80.0</td>\n",
       "      <td>G - All Ages</td>\n",
       "      <td>NaN</td>\n",
       "      <td>NaN</td>\n",
       "      <td>160902.0</td>\n",
       "      <td>21488</td>\n",
       "      <td>6</td>\n",
       "      <td>0</td>\n",
       "    </tr>\n",
       "    <tr>\n",
       "      <th>21457</th>\n",
       "      <td>45059</td>\n",
       "      <td>Yongzhe Chuang Mo Cheng</td>\n",
       "      <td>Unknown</td>\n",
       "      <td>勇者闯魔城</td>\n",
       "      <td>Brave City</td>\n",
       "      <td>Unknown</td>\n",
       "      <td>Movie</td>\n",
       "      <td>1.0</td>\n",
       "      <td>Finished Airing</td>\n",
       "      <td>Mar 16, 2018</td>\n",
       "      <td>...</td>\n",
       "      <td>Unknown</td>\n",
       "      <td>Unknown</td>\n",
       "      <td>80.0</td>\n",
       "      <td>G - All Ages</td>\n",
       "      <td>NaN</td>\n",
       "      <td>NaN</td>\n",
       "      <td>164032.0</td>\n",
       "      <td>21489</td>\n",
       "      <td>6</td>\n",
       "      <td>0</td>\n",
       "    </tr>\n",
       "    <tr>\n",
       "      <th>21458</th>\n",
       "      <td>45063</td>\n",
       "      <td>Yu Shen Chuan: Wangzhe Shaonian</td>\n",
       "      <td>Unknown</td>\n",
       "      <td>禹神传之王者少年</td>\n",
       "      <td>The Juvenile of King Yu</td>\n",
       "      <td>Unknown</td>\n",
       "      <td>Movie</td>\n",
       "      <td>1.0</td>\n",
       "      <td>Finished Airing</td>\n",
       "      <td>Aug 15, 2018</td>\n",
       "      <td>...</td>\n",
       "      <td>Unknown</td>\n",
       "      <td>Unknown</td>\n",
       "      <td>90.0</td>\n",
       "      <td>G - All Ages</td>\n",
       "      <td>NaN</td>\n",
       "      <td>NaN</td>\n",
       "      <td>164462.0</td>\n",
       "      <td>21490</td>\n",
       "      <td>6</td>\n",
       "      <td>0</td>\n",
       "    </tr>\n",
       "    <tr>\n",
       "      <th>21459</th>\n",
       "      <td>45061</td>\n",
       "      <td>Konglong Wang</td>\n",
       "      <td>Unknown</td>\n",
       "      <td>恐龙王</td>\n",
       "      <td>Dino King</td>\n",
       "      <td>Unknown</td>\n",
       "      <td>Movie</td>\n",
       "      <td>1.0</td>\n",
       "      <td>Finished Airing</td>\n",
       "      <td>Nov 10, 2018</td>\n",
       "      <td>...</td>\n",
       "      <td>Historical</td>\n",
       "      <td>Kids</td>\n",
       "      <td>95.0</td>\n",
       "      <td>G - All Ages</td>\n",
       "      <td>NaN</td>\n",
       "      <td>NaN</td>\n",
       "      <td>193202.0</td>\n",
       "      <td>21490</td>\n",
       "      <td>6</td>\n",
       "      <td>0</td>\n",
       "    </tr>\n",
       "  </tbody>\n",
       "</table>\n",
       "<p>21460 rows × 28 columns</p>\n",
       "</div>"
      ],
      "text/plain": [
       "          ID                                       Title  \\\n",
       "0      16498                          Shingeki no Kyojin   \n",
       "1       1535                                  Death Note   \n",
       "2       5114            Fullmetal Alchemist: Brotherhood   \n",
       "3      30276                               One Punch Man   \n",
       "4      11757                            Sword Art Online   \n",
       "...      ...                                         ...   \n",
       "21455  45064    Xiao Gongzhu Ai Wei La Yu Shenmi Wangguo   \n",
       "21456  45065  Xiao Gongzhu Ai Wei La Yu Shenmi Wangguo 2   \n",
       "21457  45059                     Yongzhe Chuang Mo Cheng   \n",
       "21458  45063             Yu Shen Chuan: Wangzhe Shaonian   \n",
       "21459  45061                               Konglong Wang   \n",
       "\n",
       "                                                Synonyms  \\\n",
       "0                                               AoT, SnK   \n",
       "1                                                     DN   \n",
       "2      Hagane no Renkinjutsushi Fullmetal Alchemist, ...   \n",
       "3                      One Punch-Man, One-Punch Man, OPM   \n",
       "4                                             S.A.O, SAO   \n",
       "...                                                  ...   \n",
       "21455                                            Unknown   \n",
       "21456                                            Unknown   \n",
       "21457                                            Unknown   \n",
       "21458                                            Unknown   \n",
       "21459                                            Unknown   \n",
       "\n",
       "                         Japanese                           English  \\\n",
       "0                           進撃の巨人                   Attack on Titan   \n",
       "1                           デスノート                        Death Note   \n",
       "2      鋼の錬金術師 FULLMETAL ALCHEMIST   Fullmetal Alchemist Brotherhood   \n",
       "3                          ワンパンマン                     One Punch Man   \n",
       "4                    ソードアート・オンライン                  Sword Art Online   \n",
       "...                           ...                               ...   \n",
       "21455                 小公主艾薇拉与神秘王国          Princess and the Kingdom   \n",
       "21456                小公主艾薇拉与神秘王国2  Avera and the Mystical Kingdom 2   \n",
       "21457                       勇者闯魔城                        Brave City   \n",
       "21458                    禹神传之王者少年           The Juvenile of King Yu   \n",
       "21459                         恐龙王                         Dino King   \n",
       "\n",
       "                                                Synopsis   Type  Episodes  \\\n",
       "0      Centuries ago, mankind was slaughtered to near...     TV      25.0   \n",
       "1      Brutal murders, petty thefts, and senseless vi...     TV      37.0   \n",
       "2      After a horrific alchemy experiment goes wrong...     TV      64.0   \n",
       "3      The seemingly unimpressive Saitama has a rathe...     TV      12.0   \n",
       "4      Ever since the release of the innovative Nerve...     TV      25.0   \n",
       "...                                                  ...    ...       ...   \n",
       "21455                                            Unknown  Movie       1.0   \n",
       "21456                                            Unknown  Movie       1.0   \n",
       "21457                                            Unknown  Movie       1.0   \n",
       "21458                                            Unknown  Movie       1.0   \n",
       "21459                                            Unknown  Movie       1.0   \n",
       "\n",
       "                Status   Start_Aired  ...                    Themes  \\\n",
       "0      Finished Airing   Apr 7, 2013  ...  Gore, Military, Survival   \n",
       "1      Finished Airing   Oct 4, 2006  ...             Psychological   \n",
       "2      Finished Airing   Apr 5, 2009  ...                  Military   \n",
       "3      Finished Airing   Oct 5, 2015  ...       Parody, Super Power   \n",
       "4      Finished Airing   Jul 8, 2012  ...  Love Polygon, Video Game   \n",
       "...                ...           ...  ...                       ...   \n",
       "21455  Finished Airing  May 12, 2018  ...                   Unknown   \n",
       "21456  Finished Airing  Aug 22, 2020  ...                   Unknown   \n",
       "21457  Finished Airing  Mar 16, 2018  ...                   Unknown   \n",
       "21458  Finished Airing  Aug 15, 2018  ...                   Unknown   \n",
       "21459  Finished Airing  Nov 10, 2018  ...                Historical   \n",
       "\n",
       "      Demographics Duration_Minutes                          Rating  Score  \\\n",
       "0          Shounen             24.0  R - 17+ (violence & profanity)  8.531   \n",
       "1          Shounen             23.0  R - 17+ (violence & profanity)  8.621   \n",
       "2          Shounen             24.0  R - 17+ (violence & profanity)  9.131   \n",
       "3           Seinen             24.0  R - 17+ (violence & profanity)  8.511   \n",
       "4          Unknown             23.0       PG-13 - Teens 13 or older  7.201   \n",
       "...            ...              ...                             ...    ...   \n",
       "21455         Kids             78.0                    G - All Ages    NaN   \n",
       "21456         Kids             80.0                    G - All Ages    NaN   \n",
       "21457      Unknown             80.0                    G - All Ages    NaN   \n",
       "21458      Unknown             90.0                    G - All Ages    NaN   \n",
       "21459         Kids             95.0                    G - All Ages    NaN   \n",
       "\n",
       "      Scored_Users    Ranked Popularity  Members Favorites  \n",
       "0         519803.0    1002.0          1  3524109    155695  \n",
       "1         485487.0     732.0          2  3504535    159701  \n",
       "2         900398.0      12.0          3  2978455    207772  \n",
       "3          19066.0    1112.0          4  2879907     59651  \n",
       "4         990254.0   29562.0          5  2813565     64997  \n",
       "...            ...       ...        ...      ...       ...  \n",
       "21455          NaN  160892.0      21487        7         0  \n",
       "21456          NaN  160902.0      21488        6         0  \n",
       "21457          NaN  164032.0      21489        6         0  \n",
       "21458          NaN  164462.0      21490        6         0  \n",
       "21459          NaN  193202.0      21490        6         0  \n",
       "\n",
       "[21460 rows x 28 columns]"
      ]
     },
     "execution_count": 2,
     "metadata": {},
     "output_type": "execute_result"
    }
   ],
   "source": [
    "data"
   ]
  },
  {
   "cell_type": "code",
   "execution_count": 5,
   "metadata": {},
   "outputs": [
    {
     "name": "stdout",
     "output_type": "stream",
     "text": [
      "<class 'pandas.core.frame.DataFrame'>\n",
      "RangeIndex: 21460 entries, 0 to 21459\n",
      "Data columns (total 28 columns):\n",
      " #   Column            Non-Null Count  Dtype  \n",
      "---  ------            --------------  -----  \n",
      " 0   ID                21460 non-null  int64  \n",
      " 1   Title             21460 non-null  object \n",
      " 2   Synonyms          21460 non-null  object \n",
      " 3   Japanese          21460 non-null  object \n",
      " 4   English           21460 non-null  object \n",
      " 5   Synopsis          21460 non-null  object \n",
      " 6   Type              21460 non-null  object \n",
      " 7   Episodes          20913 non-null  float64\n",
      " 8   Status            21460 non-null  object \n",
      " 9   Start_Aired       21460 non-null  object \n",
      " 10  End_Aired         21460 non-null  object \n",
      " 11  Premiered         21460 non-null  object \n",
      " 12  Broadcast         21460 non-null  object \n",
      " 13  Producers         21460 non-null  object \n",
      " 14  Licensors         21460 non-null  object \n",
      " 15  Studios           21460 non-null  object \n",
      " 16  Source            21460 non-null  object \n",
      " 17  Genres            21460 non-null  object \n",
      " 18  Themes            21460 non-null  object \n",
      " 19  Demographics      21460 non-null  object \n",
      " 20  Duration_Minutes  20861 non-null  float64\n",
      " 21  Rating            21460 non-null  object \n",
      " 22  Score             14562 non-null  float64\n",
      " 23  Scored_Users      14562 non-null  float64\n",
      " 24  Ranked            19536 non-null  float64\n",
      " 25  Popularity        21460 non-null  int64  \n",
      " 26  Members           21460 non-null  int64  \n",
      " 27  Favorites         21460 non-null  int64  \n",
      "dtypes: float64(5), int64(4), object(19)\n",
      "memory usage: 4.6+ MB\n"
     ]
    }
   ],
   "source": [
    "data.info() #observamos la info del dataset "
   ]
  },
  {
   "cell_type": "code",
   "execution_count": 6,
   "metadata": {},
   "outputs": [
    {
     "data": {
      "text/html": [
       "<div>\n",
       "<style scoped>\n",
       "    .dataframe tbody tr th:only-of-type {\n",
       "        vertical-align: middle;\n",
       "    }\n",
       "\n",
       "    .dataframe tbody tr th {\n",
       "        vertical-align: top;\n",
       "    }\n",
       "\n",
       "    .dataframe thead th {\n",
       "        text-align: right;\n",
       "    }\n",
       "</style>\n",
       "<table border=\"1\" class=\"dataframe\">\n",
       "  <thead>\n",
       "    <tr style=\"text-align: right;\">\n",
       "      <th></th>\n",
       "      <th>count</th>\n",
       "      <th>mean</th>\n",
       "      <th>std</th>\n",
       "      <th>min</th>\n",
       "      <th>5%</th>\n",
       "      <th>10%</th>\n",
       "      <th>50%</th>\n",
       "      <th>90%</th>\n",
       "      <th>95%</th>\n",
       "      <th>99%</th>\n",
       "      <th>max</th>\n",
       "    </tr>\n",
       "  </thead>\n",
       "  <tbody>\n",
       "    <tr>\n",
       "      <th>ID</th>\n",
       "      <td>21460.0</td>\n",
       "      <td>26458.575582</td>\n",
       "      <td>17100.477121</td>\n",
       "      <td>1.000</td>\n",
       "      <td>1177.9500</td>\n",
       "      <td>2344.900</td>\n",
       "      <td>31004.500</td>\n",
       "      <td>48542.100</td>\n",
       "      <td>51098.350</td>\n",
       "      <td>52742.410</td>\n",
       "      <td>53094.000</td>\n",
       "    </tr>\n",
       "    <tr>\n",
       "      <th>Episodes</th>\n",
       "      <td>20913.0</td>\n",
       "      <td>13.272892</td>\n",
       "      <td>48.792326</td>\n",
       "      <td>1.000</td>\n",
       "      <td>1.0000</td>\n",
       "      <td>1.000</td>\n",
       "      <td>2.000</td>\n",
       "      <td>30.000</td>\n",
       "      <td>52.000</td>\n",
       "      <td>126.760</td>\n",
       "      <td>3057.000</td>\n",
       "    </tr>\n",
       "    <tr>\n",
       "      <th>Duration_Minutes</th>\n",
       "      <td>20861.0</td>\n",
       "      <td>23.934135</td>\n",
       "      <td>24.676538</td>\n",
       "      <td>1.000</td>\n",
       "      <td>2.0000</td>\n",
       "      <td>2.000</td>\n",
       "      <td>22.000</td>\n",
       "      <td>55.000</td>\n",
       "      <td>87.000</td>\n",
       "      <td>111.000</td>\n",
       "      <td>168.000</td>\n",
       "    </tr>\n",
       "    <tr>\n",
       "      <th>Score</th>\n",
       "      <td>14562.0</td>\n",
       "      <td>6.421724</td>\n",
       "      <td>0.910469</td>\n",
       "      <td>1.841</td>\n",
       "      <td>4.9415</td>\n",
       "      <td>5.261</td>\n",
       "      <td>6.431</td>\n",
       "      <td>7.561</td>\n",
       "      <td>7.891</td>\n",
       "      <td>8.431</td>\n",
       "      <td>9.131</td>\n",
       "    </tr>\n",
       "    <tr>\n",
       "      <th>Scored_Users</th>\n",
       "      <td>14562.0</td>\n",
       "      <td>26507.173809</td>\n",
       "      <td>84989.501599</td>\n",
       "      <td>101.000</td>\n",
       "      <td>138.0000</td>\n",
       "      <td>177.000</td>\n",
       "      <td>1876.500</td>\n",
       "      <td>60112.200</td>\n",
       "      <td>133413.150</td>\n",
       "      <td>454620.110</td>\n",
       "      <td>997243.000</td>\n",
       "    </tr>\n",
       "    <tr>\n",
       "      <th>Ranked</th>\n",
       "      <td>19536.0</td>\n",
       "      <td>97795.212019</td>\n",
       "      <td>56485.384273</td>\n",
       "      <td>12.000</td>\n",
       "      <td>9779.5000</td>\n",
       "      <td>19537.000</td>\n",
       "      <td>97777.000</td>\n",
       "      <td>176097.000</td>\n",
       "      <td>185864.500</td>\n",
       "      <td>193678.500</td>\n",
       "      <td>195632.000</td>\n",
       "    </tr>\n",
       "    <tr>\n",
       "      <th>Popularity</th>\n",
       "      <td>21460.0</td>\n",
       "      <td>10743.103681</td>\n",
       "      <td>6204.685188</td>\n",
       "      <td>1.000</td>\n",
       "      <td>1073.9500</td>\n",
       "      <td>2146.900</td>\n",
       "      <td>10741.500</td>\n",
       "      <td>19339.100</td>\n",
       "      <td>20414.050</td>\n",
       "      <td>21275.410</td>\n",
       "      <td>21490.000</td>\n",
       "    </tr>\n",
       "    <tr>\n",
       "      <th>Members</th>\n",
       "      <td>21460.0</td>\n",
       "      <td>39265.959366</td>\n",
       "      <td>156635.908370</td>\n",
       "      <td>6.000</td>\n",
       "      <td>43.0000</td>\n",
       "      <td>85.000</td>\n",
       "      <td>1582.500</td>\n",
       "      <td>75008.000</td>\n",
       "      <td>187743.150</td>\n",
       "      <td>744806.090</td>\n",
       "      <td>3524109.000</td>\n",
       "    </tr>\n",
       "    <tr>\n",
       "      <th>Favorites</th>\n",
       "      <td>21460.0</td>\n",
       "      <td>462.214865</td>\n",
       "      <td>4411.931536</td>\n",
       "      <td>0.000</td>\n",
       "      <td>0.0000</td>\n",
       "      <td>0.000</td>\n",
       "      <td>2.000</td>\n",
       "      <td>233.000</td>\n",
       "      <td>947.000</td>\n",
       "      <td>9873.040</td>\n",
       "      <td>207772.000</td>\n",
       "    </tr>\n",
       "  </tbody>\n",
       "</table>\n",
       "</div>"
      ],
      "text/plain": [
       "                    count          mean            std      min         5%  \\\n",
       "ID                21460.0  26458.575582   17100.477121    1.000  1177.9500   \n",
       "Episodes          20913.0     13.272892      48.792326    1.000     1.0000   \n",
       "Duration_Minutes  20861.0     23.934135      24.676538    1.000     2.0000   \n",
       "Score             14562.0      6.421724       0.910469    1.841     4.9415   \n",
       "Scored_Users      14562.0  26507.173809   84989.501599  101.000   138.0000   \n",
       "Ranked            19536.0  97795.212019   56485.384273   12.000  9779.5000   \n",
       "Popularity        21460.0  10743.103681    6204.685188    1.000  1073.9500   \n",
       "Members           21460.0  39265.959366  156635.908370    6.000    43.0000   \n",
       "Favorites         21460.0    462.214865    4411.931536    0.000     0.0000   \n",
       "\n",
       "                        10%        50%         90%         95%         99%  \\\n",
       "ID                 2344.900  31004.500   48542.100   51098.350   52742.410   \n",
       "Episodes              1.000      2.000      30.000      52.000     126.760   \n",
       "Duration_Minutes      2.000     22.000      55.000      87.000     111.000   \n",
       "Score                 5.261      6.431       7.561       7.891       8.431   \n",
       "Scored_Users        177.000   1876.500   60112.200  133413.150  454620.110   \n",
       "Ranked            19537.000  97777.000  176097.000  185864.500  193678.500   \n",
       "Popularity         2146.900  10741.500   19339.100   20414.050   21275.410   \n",
       "Members              85.000   1582.500   75008.000  187743.150  744806.090   \n",
       "Favorites             0.000      2.000     233.000     947.000    9873.040   \n",
       "\n",
       "                          max  \n",
       "ID                  53094.000  \n",
       "Episodes             3057.000  \n",
       "Duration_Minutes      168.000  \n",
       "Score                   9.131  \n",
       "Scored_Users       997243.000  \n",
       "Ranked             195632.000  \n",
       "Popularity          21490.000  \n",
       "Members           3524109.000  \n",
       "Favorites          207772.000  "
      ]
     },
     "execution_count": 6,
     "metadata": {},
     "output_type": "execute_result"
    }
   ],
   "source": [
    "data.describe(percentiles=[.05,.1,.9,.95,.99]).T #de aquí obtenemos unos valores empleados en el futuro"
   ]
  },
  {
   "cell_type": "markdown",
   "metadata": {},
   "source": [
    "### Ejercicio 1. "
   ]
  },
  {
   "cell_type": "markdown",
   "metadata": {},
   "source": [
    "En los 10 animes más populares, ¿hay alguna prefencia por género?"
   ]
  },
  {
   "cell_type": "code",
   "execution_count": 62,
   "metadata": {},
   "outputs": [
    {
     "data": {
      "text/html": [
       "<div>\n",
       "<style scoped>\n",
       "    .dataframe tbody tr th:only-of-type {\n",
       "        vertical-align: middle;\n",
       "    }\n",
       "\n",
       "    .dataframe tbody tr th {\n",
       "        vertical-align: top;\n",
       "    }\n",
       "\n",
       "    .dataframe thead th {\n",
       "        text-align: right;\n",
       "    }\n",
       "</style>\n",
       "<table border=\"1\" class=\"dataframe\">\n",
       "  <thead>\n",
       "    <tr style=\"text-align: right;\">\n",
       "      <th></th>\n",
       "      <th>Popularity</th>\n",
       "      <th>Title</th>\n",
       "      <th>Genres</th>\n",
       "    </tr>\n",
       "  </thead>\n",
       "  <tbody>\n",
       "    <tr>\n",
       "      <th>0</th>\n",
       "      <td>1</td>\n",
       "      <td>Shingeki no Kyojin</td>\n",
       "      <td>Action, Drama</td>\n",
       "    </tr>\n",
       "    <tr>\n",
       "      <th>1</th>\n",
       "      <td>2</td>\n",
       "      <td>Death Note</td>\n",
       "      <td>Supernatural, Suspense</td>\n",
       "    </tr>\n",
       "    <tr>\n",
       "      <th>2</th>\n",
       "      <td>3</td>\n",
       "      <td>Fullmetal Alchemist: Brotherhood</td>\n",
       "      <td>Action, Adventure, Drama, Fantasy</td>\n",
       "    </tr>\n",
       "    <tr>\n",
       "      <th>3</th>\n",
       "      <td>4</td>\n",
       "      <td>One Punch Man</td>\n",
       "      <td>Action, Comedy</td>\n",
       "    </tr>\n",
       "    <tr>\n",
       "      <th>4</th>\n",
       "      <td>5</td>\n",
       "      <td>Sword Art Online</td>\n",
       "      <td>Action, Adventure, Fantasy, Romance</td>\n",
       "    </tr>\n",
       "    <tr>\n",
       "      <th>5</th>\n",
       "      <td>6</td>\n",
       "      <td>Boku no Hero Academia</td>\n",
       "      <td>Action</td>\n",
       "    </tr>\n",
       "    <tr>\n",
       "      <th>6</th>\n",
       "      <td>7</td>\n",
       "      <td>Naruto</td>\n",
       "      <td>Action, Adventure, Fantasy</td>\n",
       "    </tr>\n",
       "    <tr>\n",
       "      <th>7</th>\n",
       "      <td>8</td>\n",
       "      <td>Tokyo Ghoul</td>\n",
       "      <td>Action, Fantasy, Horror</td>\n",
       "    </tr>\n",
       "    <tr>\n",
       "      <th>8</th>\n",
       "      <td>9</td>\n",
       "      <td>Kimetsu no Yaiba</td>\n",
       "      <td>Action, Fantasy</td>\n",
       "    </tr>\n",
       "    <tr>\n",
       "      <th>9</th>\n",
       "      <td>10</td>\n",
       "      <td>Hunter x Hunter (2011)</td>\n",
       "      <td>Action, Adventure, Fantasy</td>\n",
       "    </tr>\n",
       "  </tbody>\n",
       "</table>\n",
       "</div>"
      ],
      "text/plain": [
       "   Popularity                             Title  \\\n",
       "0           1                Shingeki no Kyojin   \n",
       "1           2                        Death Note   \n",
       "2           3  Fullmetal Alchemist: Brotherhood   \n",
       "3           4                     One Punch Man   \n",
       "4           5                  Sword Art Online   \n",
       "5           6             Boku no Hero Academia   \n",
       "6           7                            Naruto   \n",
       "7           8                       Tokyo Ghoul   \n",
       "8           9                  Kimetsu no Yaiba   \n",
       "9          10            Hunter x Hunter (2011)   \n",
       "\n",
       "                                Genres  \n",
       "0                        Action, Drama  \n",
       "1               Supernatural, Suspense  \n",
       "2    Action, Adventure, Drama, Fantasy  \n",
       "3                       Action, Comedy  \n",
       "4  Action, Adventure, Fantasy, Romance  \n",
       "5                               Action  \n",
       "6           Action, Adventure, Fantasy  \n",
       "7              Action, Fantasy, Horror  \n",
       "8                      Action, Fantasy  \n",
       "9           Action, Adventure, Fantasy  "
      ]
     },
     "execution_count": 62,
     "metadata": {},
     "output_type": "execute_result"
    }
   ],
   "source": [
    "top_animes = data[data.Popularity<=10] #seleccionamos los 10 más populares\n",
    "top_animes[['Popularity', 'Title', 'Genres']] #nos quedamos con los atributos de interés"
   ]
  },
  {
   "cell_type": "markdown",
   "metadata": {},
   "source": [
    "De la tabla observamos que 9 de los 10 animes más populares corresponden al género de acción, después le sigue el género de fantasía con 6 animes, y posteriormente el de aventura con 4 animes. Así concluimos que la preferencia en los animes más populares es hacia el género de acción."
   ]
  },
  {
   "cell_type": "markdown",
   "metadata": {},
   "source": [
    "### Ejercicio 2. "
   ]
  },
  {
   "cell_type": "markdown",
   "metadata": {},
   "source": [
    "¿Cuáles son los animes Seinen \"mejor puntuados\" en MyAnimeList.net?"
   ]
  },
  {
   "cell_type": "code",
   "execution_count": 70,
   "metadata": {},
   "outputs": [
    {
     "data": {
      "text/html": [
       "<div>\n",
       "<style scoped>\n",
       "    .dataframe tbody tr th:only-of-type {\n",
       "        vertical-align: middle;\n",
       "    }\n",
       "\n",
       "    .dataframe tbody tr th {\n",
       "        vertical-align: top;\n",
       "    }\n",
       "\n",
       "    .dataframe thead th {\n",
       "        text-align: right;\n",
       "    }\n",
       "</style>\n",
       "<table border=\"1\" class=\"dataframe\">\n",
       "  <thead>\n",
       "    <tr style=\"text-align: right;\">\n",
       "      <th></th>\n",
       "      <th>Title</th>\n",
       "      <th>Demographics</th>\n",
       "      <th>Score</th>\n",
       "      <th>Rating</th>\n",
       "    </tr>\n",
       "  </thead>\n",
       "  <tbody>\n",
       "    <tr>\n",
       "      <th>260</th>\n",
       "      <td>Kaguya-sama wa Kokurasetai: Ultra Romantic</td>\n",
       "      <td>Seinen</td>\n",
       "      <td>9.121</td>\n",
       "      <td>PG-13 - Teens 13 or older</td>\n",
       "    </tr>\n",
       "    <tr>\n",
       "      <th>532</th>\n",
       "      <td>3-gatsu no Lion 2nd Season</td>\n",
       "      <td>Seinen</td>\n",
       "      <td>8.951</td>\n",
       "      <td>PG-13 - Teens 13 or older</td>\n",
       "    </tr>\n",
       "    <tr>\n",
       "      <th>150</th>\n",
       "      <td>Monster</td>\n",
       "      <td>Seinen</td>\n",
       "      <td>8.841</td>\n",
       "      <td>R+ - Mild Nudity</td>\n",
       "    </tr>\n",
       "    <tr>\n",
       "      <th>3136</th>\n",
       "      <td>Kingdom 4th Season</td>\n",
       "      <td>Seinen</td>\n",
       "      <td>8.821</td>\n",
       "      <td>R - 17+ (violence &amp; profanity)</td>\n",
       "    </tr>\n",
       "    <tr>\n",
       "      <th>2103</th>\n",
       "      <td>Kingdom 3rd Season</td>\n",
       "      <td>Seinen</td>\n",
       "      <td>8.821</td>\n",
       "      <td>R - 17+ (violence &amp; profanity)</td>\n",
       "    </tr>\n",
       "    <tr>\n",
       "      <th>840</th>\n",
       "      <td>Mushishi Zoku Shou 2nd Season</td>\n",
       "      <td>Seinen</td>\n",
       "      <td>8.741</td>\n",
       "      <td>PG-13 - Teens 13 or older</td>\n",
       "    </tr>\n",
       "    <tr>\n",
       "      <th>93</th>\n",
       "      <td>Vinland Saga</td>\n",
       "      <td>Seinen</td>\n",
       "      <td>8.731</td>\n",
       "      <td>R - 17+ (violence &amp; profanity)</td>\n",
       "    </tr>\n",
       "    <tr>\n",
       "      <th>743</th>\n",
       "      <td>Mushishi Zoku Shou</td>\n",
       "      <td>Seinen</td>\n",
       "      <td>8.701</td>\n",
       "      <td>PG-13 - Teens 13 or older</td>\n",
       "    </tr>\n",
       "    <tr>\n",
       "      <th>201</th>\n",
       "      <td>Mushishi</td>\n",
       "      <td>Seinen</td>\n",
       "      <td>8.671</td>\n",
       "      <td>PG-13 - Teens 13 or older</td>\n",
       "    </tr>\n",
       "    <tr>\n",
       "      <th>98</th>\n",
       "      <td>Kaguya-sama wa Kokurasetai? Tensai-tachi no Re...</td>\n",
       "      <td>Seinen</td>\n",
       "      <td>8.651</td>\n",
       "      <td>PG-13 - Teens 13 or older</td>\n",
       "    </tr>\n",
       "    <tr>\n",
       "      <th>553</th>\n",
       "      <td>Ping Pong the Animation</td>\n",
       "      <td>Seinen</td>\n",
       "      <td>8.621</td>\n",
       "      <td>PG-13 - Teens 13 or older</td>\n",
       "    </tr>\n",
       "    <tr>\n",
       "      <th>1585</th>\n",
       "      <td>Mushishi Zoku Shou: Suzu no Shizuku</td>\n",
       "      <td>Seinen</td>\n",
       "      <td>8.601</td>\n",
       "      <td>PG-13 - Teens 13 or older</td>\n",
       "    </tr>\n",
       "    <tr>\n",
       "      <th>334</th>\n",
       "      <td>Kenpuu Denki Berserk</td>\n",
       "      <td>Seinen</td>\n",
       "      <td>8.541</td>\n",
       "      <td>R+ - Mild Nudity</td>\n",
       "    </tr>\n",
       "    <tr>\n",
       "      <th>1482</th>\n",
       "      <td>Mushishi: Hihamukage</td>\n",
       "      <td>Seinen</td>\n",
       "      <td>8.541</td>\n",
       "      <td>PG-13 - Teens 13 or older</td>\n",
       "    </tr>\n",
       "    <tr>\n",
       "      <th>952</th>\n",
       "      <td>Koukaku Kidoutai: Stand Alone Complex 2nd GIG</td>\n",
       "      <td>Seinen</td>\n",
       "      <td>8.521</td>\n",
       "      <td>R - 17+ (violence &amp; profanity)</td>\n",
       "    </tr>\n",
       "    <tr>\n",
       "      <th>3</th>\n",
       "      <td>One Punch Man</td>\n",
       "      <td>Seinen</td>\n",
       "      <td>8.511</td>\n",
       "      <td>R - 17+ (violence &amp; profanity)</td>\n",
       "    </tr>\n",
       "    <tr>\n",
       "      <th>1116</th>\n",
       "      <td>Uchuu Kyoudai</td>\n",
       "      <td>Seinen</td>\n",
       "      <td>8.501</td>\n",
       "      <td>PG-13 - Teens 13 or older</td>\n",
       "    </tr>\n",
       "    <tr>\n",
       "      <th>523</th>\n",
       "      <td>Rainbow: Nisha Rokubou no Shichinin</td>\n",
       "      <td>Seinen</td>\n",
       "      <td>8.491</td>\n",
       "      <td>R - 17+ (violence &amp; profanity)</td>\n",
       "    </tr>\n",
       "    <tr>\n",
       "      <th>1431</th>\n",
       "      <td>Golden Kamuy 3rd Season</td>\n",
       "      <td>Seinen</td>\n",
       "      <td>8.451</td>\n",
       "      <td>R - 17+ (violence &amp; profanity)</td>\n",
       "    </tr>\n",
       "    <tr>\n",
       "      <th>1894</th>\n",
       "      <td>Mushishi Zoku Shou: Odoro no Michi</td>\n",
       "      <td>Seinen</td>\n",
       "      <td>8.441</td>\n",
       "      <td>PG-13 - Teens 13 or older</td>\n",
       "    </tr>\n",
       "    <tr>\n",
       "      <th>705</th>\n",
       "      <td>Mononoke</td>\n",
       "      <td>Seinen</td>\n",
       "      <td>8.431</td>\n",
       "      <td>R - 17+ (violence &amp; profanity)</td>\n",
       "    </tr>\n",
       "    <tr>\n",
       "      <th>512</th>\n",
       "      <td>Koukaku Kidoutai: Stand Alone Complex</td>\n",
       "      <td>Seinen</td>\n",
       "      <td>8.431</td>\n",
       "      <td>R - 17+ (violence &amp; profanity)</td>\n",
       "    </tr>\n",
       "    <tr>\n",
       "      <th>246</th>\n",
       "      <td>Grand Blue</td>\n",
       "      <td>Seinen</td>\n",
       "      <td>8.431</td>\n",
       "      <td>PG-13 - Teens 13 or older</td>\n",
       "    </tr>\n",
       "  </tbody>\n",
       "</table>\n",
       "</div>"
      ],
      "text/plain": [
       "                                                  Title Demographics  Score  \\\n",
       "260          Kaguya-sama wa Kokurasetai: Ultra Romantic       Seinen  9.121   \n",
       "532                          3-gatsu no Lion 2nd Season       Seinen  8.951   \n",
       "150                                             Monster       Seinen  8.841   \n",
       "3136                                 Kingdom 4th Season       Seinen  8.821   \n",
       "2103                                 Kingdom 3rd Season       Seinen  8.821   \n",
       "840                       Mushishi Zoku Shou 2nd Season       Seinen  8.741   \n",
       "93                                         Vinland Saga       Seinen  8.731   \n",
       "743                                  Mushishi Zoku Shou       Seinen  8.701   \n",
       "201                                            Mushishi       Seinen  8.671   \n",
       "98    Kaguya-sama wa Kokurasetai? Tensai-tachi no Re...       Seinen  8.651   \n",
       "553                             Ping Pong the Animation       Seinen  8.621   \n",
       "1585                Mushishi Zoku Shou: Suzu no Shizuku       Seinen  8.601   \n",
       "334                                Kenpuu Denki Berserk       Seinen  8.541   \n",
       "1482                               Mushishi: Hihamukage       Seinen  8.541   \n",
       "952       Koukaku Kidoutai: Stand Alone Complex 2nd GIG       Seinen  8.521   \n",
       "3                                         One Punch Man       Seinen  8.511   \n",
       "1116                                      Uchuu Kyoudai       Seinen  8.501   \n",
       "523                 Rainbow: Nisha Rokubou no Shichinin       Seinen  8.491   \n",
       "1431                            Golden Kamuy 3rd Season       Seinen  8.451   \n",
       "1894                 Mushishi Zoku Shou: Odoro no Michi       Seinen  8.441   \n",
       "705                                            Mononoke       Seinen  8.431   \n",
       "512               Koukaku Kidoutai: Stand Alone Complex       Seinen  8.431   \n",
       "246                                          Grand Blue       Seinen  8.431   \n",
       "\n",
       "                              Rating  \n",
       "260        PG-13 - Teens 13 or older  \n",
       "532        PG-13 - Teens 13 or older  \n",
       "150                 R+ - Mild Nudity  \n",
       "3136  R - 17+ (violence & profanity)  \n",
       "2103  R - 17+ (violence & profanity)  \n",
       "840        PG-13 - Teens 13 or older  \n",
       "93    R - 17+ (violence & profanity)  \n",
       "743        PG-13 - Teens 13 or older  \n",
       "201        PG-13 - Teens 13 or older  \n",
       "98         PG-13 - Teens 13 or older  \n",
       "553        PG-13 - Teens 13 or older  \n",
       "1585       PG-13 - Teens 13 or older  \n",
       "334                 R+ - Mild Nudity  \n",
       "1482       PG-13 - Teens 13 or older  \n",
       "952   R - 17+ (violence & profanity)  \n",
       "3     R - 17+ (violence & profanity)  \n",
       "1116       PG-13 - Teens 13 or older  \n",
       "523   R - 17+ (violence & profanity)  \n",
       "1431  R - 17+ (violence & profanity)  \n",
       "1894       PG-13 - Teens 13 or older  \n",
       "705   R - 17+ (violence & profanity)  \n",
       "512   R - 17+ (violence & profanity)  \n",
       "246        PG-13 - Teens 13 or older  "
      ]
     },
     "execution_count": 70,
     "metadata": {},
     "output_type": "execute_result"
    }
   ],
   "source": [
    "a_s = data[data.Demographics=='Seinen'] #tomamos todos los animes seinen\n",
    "mp_a_s = a_s[a_s.Score>=8.431] #de ellos nos quedamos \n",
    "#con aquellos cuyo puntaje es mayor que el percentil 99%\n",
    "t = mp_a_s.sort_values(by='Score', ascending=False) #ordenamos por el score\n",
    "t[['Title', 'Demographics', 'Score', 'Rating']] #imprimimos los atributos de interés"
   ]
  },
  {
   "cell_type": "code",
   "execution_count": 71,
   "metadata": {},
   "outputs": [
    {
     "data": {
      "text/plain": [
       "PG-13 - Teens 13 or older         12\n",
       "R - 17+ (violence & profanity)     9\n",
       "R+ - Mild Nudity                   2\n",
       "Name: Rating, dtype: int64"
      ]
     },
     "execution_count": 71,
     "metadata": {},
     "output_type": "execute_result"
    }
   ],
   "source": [
    "t['Rating'].value_counts()"
   ]
  },
  {
   "cell_type": "markdown",
   "metadata": {},
   "source": [
    "Tomamos los animes mejores puntuados como aquellos cuyo valor de Source estuviera por encima del valor correspondiente al 99% de los datos del dataset, es decir, aquellos animes que entraran en los 215 con mayor puntaje.\n",
    "De dicha tabla podemos observar que más del 10% (23 animes) de los \"animes mejores puntuados\" corresponden a la demografía seinen, la cual se caracteriza por ser para un adolescenetes mayores y adultos jóvenes, y esto se ve reflejado en el rating de dichos animes donde 12 de ellos son clasificación PG-13 (inapropiado para menores de 13 años)  y 11 clasificación R (personas menores de 17 años requieren acompañameinto de un adulto)."
   ]
  },
  {
   "cell_type": "markdown",
   "metadata": {},
   "source": [
    "### Ejercicio 3."
   ]
  },
  {
   "cell_type": "markdown",
   "metadata": {},
   "source": [
    "De las principales demografias en el dataset, ¿Qué podemos decir sobre sus Score's?"
   ]
  },
  {
   "cell_type": "code",
   "execution_count": 2,
   "metadata": {},
   "outputs": [],
   "source": [
    "import seaborn as sns #librería ocupada para graficar"
   ]
  },
  {
   "cell_type": "code",
   "execution_count": 42,
   "metadata": {},
   "outputs": [
    {
     "data": {
      "text/plain": [
       "Unknown          13426\n",
       "Kids              4225\n",
       "Shounen           2028\n",
       "Seinen             908\n",
       "Shoujo             673\n",
       "Josei              100\n",
       "Kids, Shounen       66\n",
       "Kids, Shoujo        32\n",
       "Kids, Seinen         1\n",
       "Josei, Shoujo        1\n",
       "Name: Demographics, dtype: int64"
      ]
     },
     "execution_count": 42,
     "metadata": {},
     "output_type": "execute_result"
    }
   ],
   "source": [
    "data['Demographics'].value_counts() #observamos todas las demografías y su cantidad de animes"
   ]
  },
  {
   "cell_type": "code",
   "execution_count": 35,
   "metadata": {},
   "outputs": [],
   "source": [
    "demografias_ord=data['Demographics'].value_counts().index #obtenemos el conteo de los animes registrados por\n",
    "#demografia (en orden descendente) y conservamos los nombres"
   ]
  },
  {
   "cell_type": "code",
   "execution_count": 39,
   "metadata": {},
   "outputs": [
    {
     "data": {
      "text/plain": [
       "<AxesSubplot:xlabel='Score', ylabel='Density'>"
      ]
     },
     "execution_count": 39,
     "metadata": {},
     "output_type": "execute_result"
    },
    {
     "data": {
      "image/png": "[encoded data removed]",
      "text/plain": [
       "<Figure size 432x288 with 1 Axes>"
      ]
     },
     "metadata": {
      "needs_background": "light"
     },
     "output_type": "display_data"
    }
   ],
   "source": [
    "sns.kdeplot(data=data[data.Demographics.isin(demografias_ord[1:6])], \n",
    "            x='Score', hue='Demographics') #graficamos el ajuste para las \"principales\" demografías"
   ]
  },
  {
   "cell_type": "markdown",
   "metadata": {},
   "source": [
    "En la primera parte, se consideró a las \"principales\" demografías como aquellas con mayor número de animes registrados. Ya con la lista ordenada por el número de animes, se procedió a tomar las primeras 5 posiciones excluyendo la primera ya que la categoría es \"Unknow\" lo que no nos es útil para la clasificación; además de que su conteo de animes es casi 3 veces el conteo de la segunda posición, lo que sólo dificultaría la interpretación del gráfico."
   ]
  },
  {
   "cell_type": "markdown",
   "metadata": {},
   "source": [
    "Ya con lo anterior, podemos interpretar del gráfico que los animes Shounen son aquellos cuyo valor promedio de Score es mayor que el resto. Por otro lado, es la demografía Kids aquella con el valor promedio más bajo entre las demografías principales. En el resto de demografías es díficil interpretar el orden en base a su promedio. Para ello recurrimos al siguiente tabla:"
   ]
  },
  {
   "cell_type": "code",
   "execution_count": 68,
   "metadata": {},
   "outputs": [
    {
     "data": {
      "text/html": [
       "<div>\n",
       "<style scoped>\n",
       "    .dataframe tbody tr th:only-of-type {\n",
       "        vertical-align: middle;\n",
       "    }\n",
       "\n",
       "    .dataframe tbody tr th {\n",
       "        vertical-align: top;\n",
       "    }\n",
       "\n",
       "    .dataframe thead th {\n",
       "        text-align: right;\n",
       "    }\n",
       "</style>\n",
       "<table border=\"1\" class=\"dataframe\">\n",
       "  <thead>\n",
       "    <tr style=\"text-align: right;\">\n",
       "      <th></th>\n",
       "      <th>Score</th>\n",
       "    </tr>\n",
       "    <tr>\n",
       "      <th>Demographics</th>\n",
       "      <th></th>\n",
       "    </tr>\n",
       "  </thead>\n",
       "  <tbody>\n",
       "    <tr>\n",
       "      <th>Shounen</th>\n",
       "      <td>7.014434</td>\n",
       "    </tr>\n",
       "    <tr>\n",
       "      <th>Josei</th>\n",
       "      <td>6.941426</td>\n",
       "    </tr>\n",
       "    <tr>\n",
       "      <th>Seinen</th>\n",
       "      <td>6.933747</td>\n",
       "    </tr>\n",
       "    <tr>\n",
       "      <th>Shoujo</th>\n",
       "      <td>6.792542</td>\n",
       "    </tr>\n",
       "    <tr>\n",
       "      <th>Kids</th>\n",
       "      <td>6.010660</td>\n",
       "    </tr>\n",
       "  </tbody>\n",
       "</table>\n",
       "</div>"
      ],
      "text/plain": [
       "                 Score\n",
       "Demographics          \n",
       "Shounen       7.014434\n",
       "Josei         6.941426\n",
       "Seinen        6.933747\n",
       "Shoujo        6.792542\n",
       "Kids          6.010660"
      ]
     },
     "execution_count": 68,
     "metadata": {},
     "output_type": "execute_result"
    }
   ],
   "source": [
    "t=data.groupby('Demographics').mean()#agrupamos y obtenemos el promedio\n",
    "pd.DataFrame(t.loc[['Shounen', 'Seinen', 'Shoujo', 'Kids', 'Josei']].sort_values(by='Score', ascending=False).Score)"
   ]
  },
  {
   "cell_type": "markdown",
   "metadata": {},
   "source": [
    "Por otro lado, de las KDE's de la figura podemos interpretar que es más probable encontrar un Shounen con un Score superior a 7 que un Seien, Shoujo o Josei. Además, para la demografía de niños (Kids) es más probable encontrar un anime con un puntuaje de 6.01."
   ]
  },
  {
   "cell_type": "code",
   "execution_count": 69,
   "metadata": {},
   "outputs": [
    {
     "data": {
      "text/html": [
       "<div>\n",
       "<style scoped>\n",
       "    .dataframe tbody tr th:only-of-type {\n",
       "        vertical-align: middle;\n",
       "    }\n",
       "\n",
       "    .dataframe tbody tr th {\n",
       "        vertical-align: top;\n",
       "    }\n",
       "\n",
       "    .dataframe thead th {\n",
       "        text-align: right;\n",
       "    }\n",
       "</style>\n",
       "<table border=\"1\" class=\"dataframe\">\n",
       "  <thead>\n",
       "    <tr style=\"text-align: right;\">\n",
       "      <th></th>\n",
       "      <th>Score</th>\n",
       "    </tr>\n",
       "    <tr>\n",
       "      <th>Demographics</th>\n",
       "      <th></th>\n",
       "    </tr>\n",
       "  </thead>\n",
       "  <tbody>\n",
       "    <tr>\n",
       "      <th>Josei</th>\n",
       "      <td>0.892186</td>\n",
       "    </tr>\n",
       "    <tr>\n",
       "      <th>Seinen</th>\n",
       "      <td>0.841710</td>\n",
       "    </tr>\n",
       "    <tr>\n",
       "      <th>Shoujo</th>\n",
       "      <td>0.801322</td>\n",
       "    </tr>\n",
       "    <tr>\n",
       "      <th>Shounen</th>\n",
       "      <td>0.776238</td>\n",
       "    </tr>\n",
       "    <tr>\n",
       "      <th>Kids</th>\n",
       "      <td>0.666265</td>\n",
       "    </tr>\n",
       "  </tbody>\n",
       "</table>\n",
       "</div>"
      ],
      "text/plain": [
       "                 Score\n",
       "Demographics          \n",
       "Josei         0.892186\n",
       "Seinen        0.841710\n",
       "Shoujo        0.801322\n",
       "Shounen       0.776238\n",
       "Kids          0.666265"
      ]
     },
     "execution_count": 69,
     "metadata": {},
     "output_type": "execute_result"
    }
   ],
   "source": [
    "t=data.groupby('Demographics').std() #agrupamos y obtenemos la desv. estándar\n",
    "pd.DataFrame(t.loc[['Shounen', 'Seinen', 'Shoujo', 'Kids', 'Josei']].sort_values(by='Score', ascending=False).Score)"
   ]
  },
  {
   "cell_type": "markdown",
   "metadata": {},
   "source": [
    "Finalmente, la anterior tabla muestra que es la demografía Josei cuyos puntuajes se encuentran más dispersos del Score promedio. Es decir, de acuerdo al dataset, los animes Josei y Seinen tienen un Score más variable que los animes de demografías Kids y Shounen. Esto se puede deber a que los animes diseñados para niños deben cumplir con ciertos estándares para su público, lo que los vuelve algo genéricos y por ende la mayoría cumple con su \"función\"; mientras que en animes Josei y Seinen, al tener menos restricciones se amplía bastante los temas abordados, volviéndose más particular de cada individuo el puntuaje asignado."
   ]
  },
  {
   "cell_type": "markdown",
   "metadata": {},
   "source": [
    "### Ejercicio 4."
   ]
  },
  {
   "cell_type": "markdown",
   "metadata": {},
   "source": [
    "¿Cuáles son los mejores estudios de anime?"
   ]
  },
  {
   "cell_type": "markdown",
   "metadata": {},
   "source": [
    "Para responder esta pregunta debemos definir que es 'mejor' en cuanto un estudio de anime. Por ello se relizó 3 gráficos de distintas interpretaciones sobre lo que puede definirse como mejor. El primer gráfico considera a los 4 estudios con más cantidad de animes producidos. En este gráfico señalamos que omitimos la \"estudio\" con mayor cantidad ya que corrsponde a 'Unknow', con lo que no es útil para la interpretación."
   ]
  },
  {
   "cell_type": "code",
   "execution_count": 11,
   "metadata": {},
   "outputs": [
    {
     "data": {
      "text/plain": [
       "<AxesSubplot:>"
      ]
     },
     "execution_count": 11,
     "metadata": {},
     "output_type": "execute_result"
    },
    {
     "data": {
      "image/png": "[encoded data removed]",
      "text/plain": [
       "<Figure size 432x288 with 1 Axes>"
      ]
     },
     "metadata": {
      "needs_background": "light"
     },
     "output_type": "display_data"
    }
   ],
   "source": [
    "estudios=data['Studios'].value_counts().index #obtener los índices\n",
    "num_animes=data['Studios'].value_counts().values #obtener el conteo de animes ordenados\n",
    "sns.barplot(x=estudios[1:5], y=num_animes[1:5], palette='Set2') #los estudios con más animes"
   ]
  },
  {
   "cell_type": "markdown",
   "metadata": {},
   "source": [
    "El segundo gráfico muestra los 4 estudios con mayor número de animes dentro del 10% de los más populares (valor tomado del percentil 10% en Popularity)."
   ]
  },
  {
   "cell_type": "code",
   "execution_count": 13,
   "metadata": {
    "scrolled": false
   },
   "outputs": [
    {
     "data": {
      "text/plain": [
       "<AxesSubplot:>"
      ]
     },
     "execution_count": 13,
     "metadata": {},
     "output_type": "execute_result"
    },
    {
     "data": {
      "image/png": "[encoded data removed]",
      "text/plain": [
       "<Figure size 432x288 with 1 Axes>"
      ]
     },
     "metadata": {
      "needs_background": "light"
     },
     "output_type": "display_data"
    }
   ],
   "source": [
    "top_animes=data[data['Popularity']<=2147]\n",
    "estudios=top_animes['Studios'].value_counts().index\n",
    "num_animes=top_animes['Studios'].value_counts().values\n",
    "sns.barplot(x=estudios[0:4], y=num_animes[0:4], palette='pastel') #los estudios con más animes populares"
   ]
  },
  {
   "cell_type": "markdown",
   "metadata": {},
   "source": [
    "Finalmente el último gráfico, muestra a los 4 estudios con mayor cantidad de animes mejor puntuados (aquellos que se encuentran en el 10% con mejor puntaje)."
   ]
  },
  {
   "cell_type": "code",
   "execution_count": 15,
   "metadata": {},
   "outputs": [
    {
     "data": {
      "text/plain": [
       "<AxesSubplot:>"
      ]
     },
     "execution_count": 15,
     "metadata": {},
     "output_type": "execute_result"
    },
    {
     "data": {
      "image/png": "[encoded data removed]",
      "text/plain": [
       "<Figure size 432x288 with 1 Axes>"
      ]
     },
     "metadata": {
      "needs_background": "light"
     },
     "output_type": "display_data"
    }
   ],
   "source": [
    "top_50_animes=data[data['Score']>=7.561]#valor respectivo al 90% de los animes con mejor Score\n",
    "estudios=top_50_animes['Studios'].value_counts().index\n",
    "num_animes=top_50_animes['Studios'].value_counts().values\n",
    "sns.barplot(x=estudios[0:4], y=num_animes[0:4], palette='Set3') #los estudios con más animes mejor puntuados"
   ]
  },
  {
   "cell_type": "markdown",
   "metadata": {},
   "source": [
    "Comparando los 3 gráficos, vemos que independientemente de la definición que tengamos de 'mejor' podemos destacar a los estudios: Toei Animation como el estudio con más animes, J.C. Staff como el estudio con los animes más populares y Sunrise como el que tiene los animes con mayor Score. \n",
    "Otros datos interesantes: es que aproximadamente la cuarta parte de los animes producios por el estudio J.C. Staff entran dentro de los más populares. Por otro lado, sorprende el estudio Madhouse que aparece en las 3 categorías. La cantidad de animes de dicho estudio es mucho menor a la de los estudios Toei Animation y Sunrise; aún así logra superarlos en tener animes más populares y no difiere mucho de quedarse con el puesto de los animes con mayor Score."
   ]
  },
  {
   "cell_type": "markdown",
   "metadata": {},
   "source": [
    "### Ejercicio 5."
   ]
  },
  {
   "cell_type": "markdown",
   "metadata": {},
   "source": [
    "Por último, analizaremos si el tipo de presentación del anime influye en su Score."
   ]
  },
  {
   "cell_type": "markdown",
   "metadata": {},
   "source": [
    "Para ello nos fijamos en la variable de la duración por capítulo, ya que esta muy relacionada con el tipo de presentación del anime."
   ]
  },
  {
   "cell_type": "code",
   "execution_count": 31,
   "metadata": {},
   "outputs": [
    {
     "name": "stderr",
     "output_type": "stream",
     "text": [
      "C:\\Users\\Angel\\anaconda3\\lib\\site-packages\\seaborn\\distributions.py:305: UserWarning: Dataset has 0 variance; skipping density estimate.\n",
      "  warnings.warn(msg, UserWarning)\n",
      "C:\\Users\\Angel\\anaconda3\\lib\\site-packages\\seaborn\\distributions.py:305: UserWarning: Dataset has 0 variance; skipping density estimate.\n",
      "  warnings.warn(msg, UserWarning)\n"
     ]
    },
    {
     "data": {
      "image/png": "[encoded data removed]",
      "text/plain": [
       "<Figure size 432x432 with 3 Axes>"
      ]
     },
     "metadata": {
      "needs_background": "light"
     },
     "output_type": "display_data"
    }
   ],
   "source": [
    "import matplotlib.pyplot as plt\n",
    "sns.jointplot(data=data, x='Score', y='Duration_Minutes', hue='Type')\n",
    "plt.show()"
   ]
  },
  {
   "cell_type": "markdown",
   "metadata": {},
   "source": [
    "Del gráfico anterior podemos ver que la mayoría del contenido en tipo Movie tiene la mayor duración, salvo por algunas  pequeñas excepciones de OVA's y ONA's, lo cual corresponde al hecho de que el formato de anime tipo OVA tiene una producción destinada para el formato de video físico (DVD's, Blu Ray's, etc). Por otro lado, la mayoría de los datos del tipo OVA y TV se concentran alrededor de 24 min de duración, esto es parte del estándar de la animación japonesa implementado principalmente en sus programas de TV para el uso de transmisión de comerciales durante la emisión del programa. En el caso de los especiales no hay un patrón claro, y para la mayor parte de los ONA's y musicales se observa que son de muy corta duración; siendo en este último debido a la coincidencia con la duración promedio de una canción."
   ]
  },
  {
   "cell_type": "markdown",
   "metadata": {},
   "source": [
    "Con la siguiente tabla podemos visualizar la media de las distribuciones de Score de acuerdo al tipo, de mayor a menor Score."
   ]
  },
  {
   "cell_type": "code",
   "execution_count": 3,
   "metadata": {},
   "outputs": [
    {
     "data": {
      "text/html": [
       "<div>\n",
       "<style scoped>\n",
       "    .dataframe tbody tr th:only-of-type {\n",
       "        vertical-align: middle;\n",
       "    }\n",
       "\n",
       "    .dataframe tbody tr th {\n",
       "        vertical-align: top;\n",
       "    }\n",
       "\n",
       "    .dataframe thead th {\n",
       "        text-align: right;\n",
       "    }\n",
       "</style>\n",
       "<table border=\"1\" class=\"dataframe\">\n",
       "  <thead>\n",
       "    <tr style=\"text-align: right;\">\n",
       "      <th></th>\n",
       "      <th>Score</th>\n",
       "    </tr>\n",
       "  </thead>\n",
       "  <tbody>\n",
       "    <tr>\n",
       "      <th>TV</th>\n",
       "      <td>6.847259</td>\n",
       "    </tr>\n",
       "    <tr>\n",
       "      <th>Special</th>\n",
       "      <td>6.416733</td>\n",
       "    </tr>\n",
       "    <tr>\n",
       "      <th>Movie</th>\n",
       "      <td>6.398482</td>\n",
       "    </tr>\n",
       "    <tr>\n",
       "      <th>OVA</th>\n",
       "      <td>6.243503</td>\n",
       "    </tr>\n",
       "    <tr>\n",
       "      <th>ONA</th>\n",
       "      <td>6.096000</td>\n",
       "    </tr>\n",
       "    <tr>\n",
       "      <th>Unknown</th>\n",
       "      <td>6.071000</td>\n",
       "    </tr>\n",
       "    <tr>\n",
       "      <th>Music</th>\n",
       "      <td>5.884778</td>\n",
       "    </tr>\n",
       "  </tbody>\n",
       "</table>\n",
       "</div>"
      ],
      "text/plain": [
       "            Score\n",
       "TV       6.847259\n",
       "Special  6.416733\n",
       "Movie    6.398482\n",
       "OVA      6.243503\n",
       "ONA      6.096000\n",
       "Unknown  6.071000\n",
       "Music    5.884778"
      ]
     },
     "execution_count": 3,
     "metadata": {},
     "output_type": "execute_result"
    }
   ],
   "source": [
    "t=data.groupby('Type').mean() #agrupamos y obtenemos la media\n",
    "pd.DataFrame(t.loc[data['Type'].value_counts().index].sort_values(by='Score', ascending=False).Score)"
   ]
  },
  {
   "cell_type": "markdown",
   "metadata": {},
   "source": [
    "Con base a lo anterior se observó que los tipos de anime de menor duración corresponden a los de un Score promedio más bajo (Music y ONA), esto puede deberse a que estos tipos de animación se basan en el fanservice, es decir, no aportan a la trama principal o sus historias no son tan desarrolladas, puesto que no son el formato que mantiene más continuidad en el anime. En cambio, son los formatos de TV, Special y Movie los que se llevan un mejor Score, una razón de ello podría ser que en estos se busca ofrecer una trama elaborada o la continuación a una trama principal, es decir, hay mayor continuidad en las historias."
   ]
  },
  {
   "cell_type": "markdown",
   "metadata": {},
   "source": [
    "Finalmente, interpretando en conjunto la gráfica notamos que son las películas con una duración aproximada de 80-120 min las que parecen tener un mejor Score que aquellas películas de corta duración. Sin embargo, el formato de TV sigue siendo aquel cuyos animes se concentran más en un Score promedio de 6.84."
   ]
  }
 ],
 "metadata": {
  "@webio": {
   "lastCommId": null,
   "lastKernelId": null
  },
  "kernelspec": {
   "display_name": "Python 3",
   "language": "python",
   "name": "python3"
  },
  "language_info": {
   "codemirror_mode": {
    "name": "ipython",
    "version": 3
   },
   "file_extension": ".py",
   "mimetype": "text/x-python",
   "name": "python",
   "nbconvert_exporter": "python",
   "pygments_lexer": "ipython3",
   "version": "3.8.5"
  }
 },
 "nbformat": 4,
 "nbformat_minor": 4
}
