{
 "cells": [
  {
   "cell_type": "markdown",
   "metadata": {},
   "source": [
    "# Tarea 1: Repaso de los conceptos básicos de Python\n",
    "## Ciencia de datos para físicos: Facultad de ciencias, UNAM\n",
    "## Profesores: Karen Rubí Jiménez-López, Pedro Arturo Flores-Silva"
   ]
  },
  {
   "cell_type": "markdown",
   "metadata": {},
   "source": [
    "**Instrucciones:** Este notebook contiene una serie de ejercicios que deben ser resueltos. Cada ejercicio se encuentra en una celda, ya sea de código o Markdown. Debes crear una o dos *celdas debajo de cada ejercicio* con tu(s) respectiva(s) respuestas. No modifiques las celdas originales.\n",
    "\n",
    "Recuerda que para ejecutar el código de una celda, presionar `Ctlr + Enter` o bien el boton de `play` en el editor Jupyter notebook.\n",
    "\n",
    "Cada ejercicio tendrá diferente valor, y se indicará en la celda de éste. La calificación final será la suma de los puntos obtenidos en cada ejercicio. Se calificará considerando la calidad de la respuesta, la claridad de la explicación y la correctitud del código. Por ejemplo, si el código no ejecuta la respuesta correcta pero se da una idea textual, se demuestra que hay comprensión del problema y el código hace sentido para el revisor, se otorgará una calificación parcial. Esto es, las respuestas no solo se evaluarán como bien o mal, sino que se considerará el esfuerzo.\n",
    "\n",
    "El codigo que realices debes comentarlo donde creas necesario, no vale no hacer ningún comentario. Recuerda que los comentarios son importantes para que el código sea legible y entendible, éstos se agregan con el símbolo #. Para las funciones y/o clases que crees, agrega la documentación correspondiente (docstring), éste se agrega con `\"\"\" docstring \"\"\"`."
   ]
  },
  {
   "cell_type": "markdown",
   "metadata": {},
   "source": [
    "### Ejercicio 1 (1 punto):\n",
    "\n",
    "En una celda Markdown contesta:\n",
    "\n",
    "- ¿Qué es una palabra reservada en python? Enlista 5 ejemplos de nombres reservados en python y describe su función.\n",
    "\n",
    "- Coloca tres ejemplos de nombres de variables que no son válidos en python. Explica por qué no son válidos."
   ]
  },
  {
   "cell_type": "markdown",
   "metadata": {},
   "source": [
    "**Respuesta:**\n",
    "\n",
    "Son palabras que no pueden ser usadas como nombres de funciones, variables o clases ya que se usan para el funcionamiento interno del lenguaje en Phyton. Algunos ejemplos son:\n",
    "\n",
    "1. *def* se usa para definir una función.\n",
    "\n",
    "2. *for* se usa para crear bucles, generalemnte cuando tenemos una lista de valores o sabemos la cantidad de veces que se ejecute el bucle.\n",
    "\n",
    "3. *return* se usa dentro de una función para salir y regresar un valor.\n",
    "\n",
    "4. *class* se usa para definir una clase.\n",
    "\n",
    "5. *import* nos permite llamar librerías para poder usar funciones ya predefinidas ahí.\n",
    "\n",
    "Ejemplos de variables inválidas en phyton:\n",
    "\n",
    "1. def = 4,  no es válido por ser *def* una palabra reservada en phyton.\n",
    "\n",
    "2. / = \"hola\", no es válido porque */* es un operador.\n",
    "\n",
    "3. variable uno = ['a', 1], no es válido porque el nombre de la variable lleva espacios entre sus palabras."
   ]
  },
  {
   "cell_type": "markdown",
   "metadata": {},
   "source": [
    "### Ejercicio 2 (1 punto):\n",
    "En una celda de código, escribe una función que encuentre las raíces de cualquier polinomio de segundo grado (implementar la chicharronera). En una celda markdown detalla posibles casos en la cual la función podría fallar. Usa dicha función para encontrar las raíces del polinomio $f(x)=10x^2-2x$ e imprimelas en pantalla."
   ]
  },
  {
   "cell_type": "markdown",
   "metadata": {},
   "source": [
    "**Respuesta:** La forma general de la ecuación cuadática es $ax^2+bx+c=0$"
   ]
  },
  {
   "cell_type": "code",
   "execution_count": 1,
   "metadata": {},
   "outputs": [],
   "source": [
    "import math as mt #esta librería la usaremos para poder usar la función sqrt\n",
    "def raices_de_p2g():\n",
    "    \"\"\"Esta función encuentra las raíces de un polinomio de segundo grado, usando la chicharronera.\"\"\"\n",
    "    print(\"Hola, tomando en cuenta la expresión anterior de la ecuación de segundo grado. \\\n",
    "    Inserte los valores de las constantes.\")\n",
    "    try:\n",
    "        a = float(input(\"a = \"))\n",
    "        b = float(input(\"b = \"))\n",
    "        c = float(input(\"c = \"))\n",
    "    except:\n",
    "        print(\"Los valores introducidos no son números. Vuelva a intentar, introduciendo valores numéricos.\")\n",
    "        #omitimos casos donde se introduzcan datos que no sean númericos\n",
    "    else:\n",
    "        if a==0:\n",
    "            print(\"La ecuación descrita no es un polinomio de segundo grado.\")\n",
    "            #aquí podría ir la solución a ecuaciones de primer grado\n",
    "        else:\n",
    "            Δ = b**2-4*a*c #definimos el discriminante\n",
    "            x1 = (-b+mt.sqrt(Δ))/2*a\n",
    "            x2 = (-b-mt.sqrt(Δ))/2*a\n",
    "            return print(\"Las soluciones del polinomio son \\n x1 = \", x1, \", x2 = \", x2)"
   ]
  },
  {
   "cell_type": "code",
   "execution_count": 4,
   "metadata": {},
   "outputs": [
    {
     "name": "stdout",
     "output_type": "stream",
     "text": [
      "Hola, tomando en cuenta la expresión anterior de la ecuación de segundo grado.     Inserte los valores de las constantes.\n",
      "a = 1\n",
      "b = 6\n",
      "c = 8\n",
      "Las soluciones del polinomio son \n",
      " x1 =  -2.0 , x2 =  -4.0\n"
     ]
    }
   ],
   "source": [
    "raices_de_p2g() #ejemplo1"
   ]
  },
  {
   "cell_type": "markdown",
   "metadata": {},
   "source": [
    "La función falla a la hora de meternos con ecuaciones de segundo grado cuyas raíces son complejas. Esto implica que $\\Delta <0$. Esto se soluciona haciendo la siguiente modificación a la función:"
   ]
  },
  {
   "cell_type": "code",
   "execution_count": 5,
   "metadata": {},
   "outputs": [],
   "source": [
    "def raices_de_p2g1(): #le puse otro nombre para no afectar\n",
    "    \"\"\"Esta función encuentra las raíces de cualquier polinomio de segundo grado. Aún si son complejas.\"\"\"\n",
    "    print(\"Hola, tomando en cuenta la expresión anterior de la ecuación de segundo grado. \\\n",
    "    Inserte los valores de las constantes.\")\n",
    "    try:\n",
    "        a = float(input(\"a = \"))\n",
    "        b = float(input(\"b = \"))\n",
    "        c = float(input(\"c = \"))\n",
    "    except:\n",
    "        print(\"Los valores introducidos no son números. Vuelva a intentar, introduciendo valores numéricos.\")\n",
    "        #omitimos casos donde se introduzcan datos que no sean númericos\n",
    "    else:\n",
    "        if a==0:\n",
    "            print(\"La ecuación descrita no es un polinomio de segundo grado.\")\n",
    "            #aquí podría ir la solución a ecuaciones de primer grado\n",
    "        else:\n",
    "            Δ = b**2-4*a*c #definimos el discriminante\n",
    "            if Δ<0: #caso raíces complejas\n",
    "                parte_real=-b/2*a\n",
    "                parte_imaginaria=mt.sqrt(-Δ)/2*a\n",
    "                x1, x2 = complex(parte_real, parte_imaginaria), complex(parte_real,- parte_imaginaria)\n",
    "                print(\"Las soluciones del polinomio son \\n x1 = \", x1, \", x2 = \", x2)\n",
    "            else: #caso raíces reales\n",
    "                x1 = (-b+mt.sqrt(Δ))/2*a\n",
    "                x2 = (-b-mt.sqrt(Δ))/2*a\n",
    "                print(\"Las soluciones del polinomio son \\n x1 = \", x1, \", x2 = \", x2)"
   ]
  },
  {
   "cell_type": "code",
   "execution_count": 6,
   "metadata": {},
   "outputs": [
    {
     "name": "stdout",
     "output_type": "stream",
     "text": [
      "Hola, tomando en cuenta la expresión anterior de la ecuación de segundo grado.     Inserte los valores de las constantes.\n",
      "a = 2\n",
      "b = 1\n",
      "c = 2\n",
      "Las soluciones del polinomio son \n",
      " x1 =  (-1+3.872983346207417j) , x2 =  (-1-3.872983346207417j)\n"
     ]
    }
   ],
   "source": [
    "raices_de_p2g1() #ejemplo2"
   ]
  },
  {
   "cell_type": "markdown",
   "metadata": {},
   "source": [
    "### Ejercicio 3 (1 punto):\n",
    "Caida libre: El gran Galileo Galilei subió la torre de Pisa para determinar el tiempo que tarda un objeto en caer desde una altura $H$ al suelo. Para ello, colocó un objeto de masa $m=100$kg en la torre y lo dejó caer. El tiempo que tardó en caer fue $t=0.05616667$ minutos.\n",
    "\n",
    "Considerando que la aceleración de la gravedad es $9.8 \\frac{m}{s^2}$, escribe un programa que determine la altura de la torre de Pisa. El programa debe imprimir la altura en la pantalla.\n",
    "\n",
    "Recuerda que el movimiento de caída libre simplificado cumple la ecuación: $y(t) = H+vt-\\frac{1}{2}gt^2$."
   ]
  },
  {
   "cell_type": "markdown",
   "metadata": {},
   "source": [
    "**Respuesta:**"
   ]
  },
  {
   "cell_type": "markdown",
   "metadata": {},
   "source": [
    "Como se trata de caída libre, se tiene que $v=0$. Así, suponiendo que el sistema de referencia está en el suelo, usando la ecuación indicada tenemos que\n",
    "\n",
    "$0=y(t=0.05616667min)= H-\\frac{1}{2}g(0.05616667)^2 \\rightarrow H=\\frac{1}{2}g(0.05616667min)^2$"
   ]
  },
  {
   "cell_type": "code",
   "execution_count": 2,
   "metadata": {},
   "outputs": [
    {
     "name": "stdout",
     "output_type": "stream",
     "text": [
      "La altura de la torre de Pisa es  55.705601111940204  m\n"
     ]
    }
   ],
   "source": [
    "g, t_min =9.81, 0.05616667 #declaramos las variables\n",
    "t = t_min*60 #calculamos el tiempo en segundos\n",
    "H = 0.5*g*t**2 #escribimos la expresión hallada anteriormente\n",
    "print(\"La altura de la torre de Pisa es \", H, \" m\")"
   ]
  },
  {
   "cell_type": "markdown",
   "metadata": {},
   "source": [
    "### Ejercicio 4 (1 punto):\n",
    "Crea una lista de números enteros del 0 al 99 : `lista = [0,1, 2, 3, 4, ... , 95, 96, 97, 98, 99]` (6 puntos menos si creas la lista manualmente).\n",
    "\n",
    "Escribe un programa que imprima en la pantalla una la lista que cumpla con las siguientes condiciones:\n",
    "\n",
    "- Los ultimos 10 elementos: debe imprimir lo siguiente `[90, 91, 92, 93, 94, 95, 96, 97, 98, 99]`.\n",
    "- Los primeros 11 elementos: debe imprimir lo siguiente `[0, 1, 2, 3, 4, 5, 6, 7, 8, 9, 10]`.\n",
    "- La serie de elementos de la lista que están entre 60 y 75: debe imprimir lo siguiente `[60, 61, 62, 63, 64, 65, 66, 67, 68, 69, 70, 71, 72, 73, 74, 75]`.\n",
    "- El número 50: debe imprimir lo siguiente `50`.\n",
    "\n",
    "Debes aplicar el concepto de *slicing* para resolver este ejercicio (notación de puntos `[:]`).\n",
    "\n",
    "Puntos menos si se crean listas nuevas para cada caso y/o se seleccionan manualmente los valores."
   ]
  },
  {
   "cell_type": "markdown",
   "metadata": {},
   "source": [
    "**Respuesta:**"
   ]
  },
  {
   "cell_type": "code",
   "execution_count": 19,
   "metadata": {},
   "outputs": [
    {
     "name": "stdout",
     "output_type": "stream",
     "text": [
      "Los últimos 10 elementos  [90, 91, 92, 93, 94, 95, 96, 97, 98, 99]\n",
      "Los primeros 11 elementos  [0, 1, 2, 3, 4, 5, 6, 7, 8, 9, 10]\n",
      "Los elementos entre 60 y 75  [60, 61, 62, 63, 64, 65, 66, 67, 68, 69, 70, 71, 72, 73, 74, 75]\n",
      "EL núm. 50  50\n"
     ]
    }
   ],
   "source": [
    "lista=[i for i in range(100)] #definimos la lista\n",
    "print(\"Los últimos 10 elementos \", lista[90:])\n",
    "print(\"Los primeros 11 elementos \", lista[:11])\n",
    "print(\"Los elementos entre 60 y 75 \", lista[60:76])\n",
    "print(\"EL núm. 50 \", lista[50])"
   ]
  },
  {
   "cell_type": "markdown",
   "metadata": {},
   "source": [
    "### Ejercicio 5 (1 punto):\n",
    "Crea una lista de números enteros del 0 al 1000. A partir de dicha lista:\n",
    "\n",
    "- Guarda en una variable una lista con los números pares usando ciclos y condicionales. Imprime los últimos 10 elementos de la lista final.\n",
    "- Guarda en una variable una lista con los números impares usando listas comprensivas (comprehension list). Imprime los primeros 10 elementos de la lista final."
   ]
  },
  {
   "cell_type": "markdown",
   "metadata": {},
   "source": [
    "**Respuesta:**"
   ]
  },
  {
   "cell_type": "code",
   "execution_count": 33,
   "metadata": {},
   "outputs": [
    {
     "name": "stdout",
     "output_type": "stream",
     "text": [
      "[982, 984, 986, 988, 990, 992, 994, 996, 998, 1000]\n"
     ]
    }
   ],
   "source": [
    "lista = list(range(1001)) #creamos la lista base\n",
    "lista_pares = [] #aquí guardaremos a los pares\n",
    "for i in lista:\n",
    "    if i%2 == 0: #está condición es que el residuo de la división entre 2 sea 0, cosa que cumplen los números pares\n",
    "        lista_pares.append(i) #agregamos a la lista vacía\n",
    "print(lista_pares[-10:])"
   ]
  },
  {
   "cell_type": "code",
   "execution_count": 36,
   "metadata": {},
   "outputs": [
    {
     "name": "stdout",
     "output_type": "stream",
     "text": [
      "[1, 3, 5, 7, 9, 11, 13, 15, 17, 19]\n"
     ]
    }
   ],
   "source": [
    "lista_impares = [numero for numero in lista if numero%2 == 1] #esta condición la cumplen los nnúmeros impares\n",
    "print(lista_impares[:10])"
   ]
  },
  {
   "cell_type": "markdown",
   "metadata": {},
   "source": [
    "### Ejercicio 6 (2 puntos): Aproximación de $\\pi$\n",
    "Una de las formas más sencillas de aproximar $\\pi$ es mediante la siguiente serie infinita de Leibniz:\n",
    "\n",
    "$$\\frac{\\pi}{4}=\\displaystyle \\sum_{n=0}^{\\infty} \\frac{(-1)^n}{(2n+1)}=\\frac{1}{1}-\\frac{1}{3}+\\frac{1}{5}-\\frac{1}{7}+\\frac{1}{9}-...$$\n",
    "\n",
    "crea una función para aproximar $\\pi$ utilizando la serie de Leibniz. Usa n = 100000 e imprime el valor de tu aproximación tanto el valor de $\\frac{\\pi}{4}$ como $\\pi$.\n",
    "\n",
    "El valor de $\\pi$ se obtiene al despejar:\n",
    " \n",
    "$$\\pi=4*\\bigg(\\displaystyle \\sum_{n=0}^{\\infty} \\frac{(-1)^n}{(2n+1)}\\bigg)$$\n",
    "La siguiente celda de codigo ofrece el valor de $\\frac{\\pi}{4}$"
   ]
  },
  {
   "cell_type": "code",
   "execution_count": 37,
   "metadata": {},
   "outputs": [
    {
     "name": "stdout",
     "output_type": "stream",
     "text": [
      "El valor de pi/4 es aproximadamente 0.7853981633974483\n"
     ]
    }
   ],
   "source": [
    "import numpy as np\n",
    "#El valor de pi/4\n",
    "print(\"El valor de pi/4 es aproximadamente {}\".format(np.pi/4))"
   ]
  },
  {
   "cell_type": "markdown",
   "metadata": {},
   "source": [
    "**Respuesta:**"
   ]
  },
  {
   "cell_type": "code",
   "execution_count": 7,
   "metadata": {},
   "outputs": [],
   "source": [
    "def leibniz(n): #el n es el valor hasta el que llega la suma \n",
    "    \"\"\"Función para calcular la serie de Leibniz hasta el número indicado.\"\"\"\n",
    "    suma = 0 \n",
    "    for i in range(n+1): #para contar el mismo valor de n en la suma\n",
    "        suma += ((-1)**i)/(2*i+1) #caclula la expresión dentro la sumatoria y la suma a la variable suma\n",
    "    print(\"El valor aproximado de pi/4 usando la serie de Leibniz es \", suma)\n",
    "    print(\"El valor de pi al despejar es \", 4*suma)"
   ]
  },
  {
   "cell_type": "code",
   "execution_count": 8,
   "metadata": {},
   "outputs": [
    {
     "name": "stdout",
     "output_type": "stream",
     "text": [
      "El valor aproximado de pi/4 usando la serie de Leibniz es  0.7854006633724301\n",
      "El valor de pi al despejar es  3.1416026534897203\n"
     ]
    }
   ],
   "source": [
    "leibniz(100000) #la precisión mejora agregando 1 orden más, acercándose al valor de numpy"
   ]
  },
  {
   "cell_type": "markdown",
   "metadata": {},
   "source": [
    "**Ejercicio 7 (1 puntos): Identificador de vocales**\n",
    "\n",
    "Escribe una función que reciba una cadena, por ejemplo 'el pErro de la tiA chOnita' y regrese la cantidad de vocales que contiene. La función debe contener varios casos de prueba, if, elif y else. Con la cadena de ejemplo, imprime en pantalla el resultado de la función (10).\n",
    "\n",
    "Para conocer si un caracter es una vocal, primero debes descomponer la cadena en caracteres individuales. Para ello observa el siguiente código:"
   ]
  },
  {
   "cell_type": "code",
   "execution_count": 61,
   "metadata": {},
   "outputs": [
    {
     "name": "stdout",
     "output_type": "stream",
     "text": [
      "['e', 'l', ' ', 'p', 'E', 'r', 'r', 'o', ' ', 'd', 'e', ' ', 'l', 'a', ' ', 't', 'i', 'A', ' ', 'c', 'h', 'O', 'n', 'i', 't', 'a']\n"
     ]
    }
   ],
   "source": [
    "# Divide una cadena en caracteres individuales\n",
    "cadena_prueba = 'el pErro de la tiA chOnita'\n",
    "caracteres_individuales = list(cadena_prueba)\n",
    "print(caracteres_individuales)"
   ]
  },
  {
   "cell_type": "markdown",
   "metadata": {},
   "source": [
    "**Respuesta:**"
   ]
  },
  {
   "cell_type": "code",
   "execution_count": 9,
   "metadata": {},
   "outputs": [],
   "source": [
    "def cuenta_vocales(cadena):\n",
    "    \"\"\"Esta función resibe una cadena y regresa el valor del número de vocales en dicha cadena.\"\"\"\n",
    "    if type(cadena) == str: #comprobamos que sea una cadena\n",
    "        caracteres_individuales = list(cadena) #usamos el hint\n",
    "        num_de_vocales = 0 #contador inicial de vocales\n",
    "        for caracter in caracteres_individuales: #seleccionamos cada caracter de la lista de caracteres de la cadena\n",
    "            if caracter.lower() in 'aeiou': #lo comparamos con las vocales, lower hace minúsculas a los caracteres \n",
    "                # para ya no tener que hacer el caso de mayúsculas aparte\n",
    "                num_de_vocales += 1 #actualizamos el número de vocales\n",
    "        return num_de_vocales\n",
    "    else:\n",
    "        print(\"El elemento introducido no es una cadena. Por favor, introduzca una cadena.\")"
   ]
  },
  {
   "cell_type": "code",
   "execution_count": 10,
   "metadata": {},
   "outputs": [
    {
     "data": {
      "text/plain": [
       "10"
      ]
     },
     "execution_count": 10,
     "metadata": {},
     "output_type": "execute_result"
    }
   ],
   "source": [
    "cuenta_vocales('el pErro de la tiA chOnita') #ejemplo1"
   ]
  },
  {
   "cell_type": "code",
   "execution_count": 11,
   "metadata": {},
   "outputs": [
    {
     "data": {
      "text/plain": [
       "8"
      ]
     },
     "execution_count": 11,
     "metadata": {},
     "output_type": "execute_result"
    }
   ],
   "source": [
    "cuenta_vocales(\"Anita LavA LA TINA\") #ejemplo2"
   ]
  },
  {
   "cell_type": "code",
   "execution_count": 15,
   "metadata": {},
   "outputs": [
    {
     "data": {
      "text/plain": [
       "17"
      ]
     },
     "execution_count": 15,
     "metadata": {},
     "output_type": "execute_result"
    }
   ],
   "source": [
    "cuenta_vocales(\"¡Veamos cuantas vocales tiene esta fraSee!\") #ejemplo3"
   ]
  },
  {
   "cell_type": "code",
   "execution_count": 13,
   "metadata": {},
   "outputs": [
    {
     "data": {
      "text/plain": [
       "5"
      ]
     },
     "execution_count": 13,
     "metadata": {},
     "output_type": "execute_result"
    }
   ],
   "source": [
    "cuenta_vocales(\"abcdefghijklmnñopqrstuvwxyz\") #ejemplo4"
   ]
  },
  {
   "cell_type": "markdown",
   "metadata": {},
   "source": [
    "### Ejercicio 8 (2 puntos):\n",
    "Escribe una clase \"calculadora\" que regrese el resultado de las operaciones de suma, resta, multiplicacion, division, modulo y potencia. La clase debe contener un método para cada operación.\n",
    "\n",
    "Los métodos que pudiesen presentar errores como division entre cero, deben ser manejados de tal manera que el programa no imprima ningun error (vimos una clausula para hacer esto).\n",
    "\n",
    "Adicional a esto, los métodos modulo y potencia deben ser generales, es decir, deben funcionar para cualquier número entero positivo (es un parámetro extra del método). Por ejemplo, la potencia de 2 elevado a 3 es 8, la potencia de 5 elevado a 3 es 125, etc.\n",
    "\n",
    "Crea una instancia de la clase calculadora y prueba cada uno de los métodos, con valores de tu elección. Para los métodos que pudiesen presentar errores da dos ejemplos, uno totalmente funcional (3/5 por ejemplo) y otro que sea conflictivo pero que no regresa ningún error (4/0 por ejemplo)."
   ]
  },
  {
   "cell_type": "markdown",
   "metadata": {},
   "source": [
    "**Respuesta:**"
   ]
  },
  {
   "cell_type": "code",
   "execution_count": 42,
   "metadata": {},
   "outputs": [],
   "source": [
    "class calculadora():\n",
    "    def __init__(self, num1, num2): #definimos nuestras variables: recibe dos números\n",
    "        self.num1 = num1\n",
    "        self.num2 = num2\n",
    "        \n",
    "    def suma(self):\n",
    "        return self.num1+self.num2\n",
    "    \n",
    "    def resta(self): #en la resta, de acuerdo a la definición escrita, será el primer número menos el segundo\n",
    "        return self.num1-self.num2\n",
    "    \n",
    "    def multiplicacion(self):\n",
    "        return self.num1*self.num2\n",
    "    \n",
    "    def division(self): #en la división, de acuerdo a la definición escrita, será el primer número entre el segundo\n",
    "        try:\n",
    "            return self.num1/self.num2\n",
    "        except:\n",
    "            print(\"La división entre cero está indefinida.\")\n",
    "    \n",
    "    def modulo(self): #en el módulo, de acuerdo a la definición escrita, el residuo se obtiene de la div. num1/num2\n",
    "        try:\n",
    "            return self.num1%self.num2\n",
    "        except:\n",
    "            print(\"La división entre cero esta indefinida y por ende su residuo.\")\n",
    "    \n",
    "    def potencia(self): #en la potencia, de acuerdo a la definición escrita, es el num1^num2\n",
    "        return self.num1**self.num2"
   ]
  },
  {
   "cell_type": "code",
   "execution_count": 43,
   "metadata": {},
   "outputs": [],
   "source": [
    "prueba1=calculadora(3, 5) #acá la instancia (el objeto)"
   ]
  },
  {
   "cell_type": "code",
   "execution_count": 30,
   "metadata": {},
   "outputs": [
    {
     "data": {
      "text/plain": [
       "8"
      ]
     },
     "execution_count": 30,
     "metadata": {},
     "output_type": "execute_result"
    }
   ],
   "source": [
    "prueba1.suma() #la suma"
   ]
  },
  {
   "cell_type": "code",
   "execution_count": 32,
   "metadata": {},
   "outputs": [
    {
     "data": {
      "text/plain": [
       "-2"
      ]
     },
     "execution_count": 32,
     "metadata": {},
     "output_type": "execute_result"
    }
   ],
   "source": [
    "prueba1.resta() #la resta"
   ]
  },
  {
   "cell_type": "code",
   "execution_count": 33,
   "metadata": {},
   "outputs": [
    {
     "data": {
      "text/plain": [
       "15"
      ]
     },
     "execution_count": 33,
     "metadata": {},
     "output_type": "execute_result"
    }
   ],
   "source": [
    "prueba1.multiplicacion() #la multiplicación"
   ]
  },
  {
   "cell_type": "code",
   "execution_count": 38,
   "metadata": {},
   "outputs": [
    {
     "data": {
      "text/plain": [
       "0.6"
      ]
     },
     "execution_count": 38,
     "metadata": {},
     "output_type": "execute_result"
    }
   ],
   "source": [
    "prueba1.division() #la división"
   ]
  },
  {
   "cell_type": "code",
   "execution_count": 44,
   "metadata": {},
   "outputs": [
    {
     "data": {
      "text/plain": [
       "3"
      ]
     },
     "execution_count": 44,
     "metadata": {},
     "output_type": "execute_result"
    }
   ],
   "source": [
    "prueba1.modulo() #módulo"
   ]
  },
  {
   "cell_type": "code",
   "execution_count": 45,
   "metadata": {},
   "outputs": [
    {
     "data": {
      "text/plain": [
       "243"
      ]
     },
     "execution_count": 45,
     "metadata": {},
     "output_type": "execute_result"
    }
   ],
   "source": [
    "prueba1.potencia() #potencia"
   ]
  },
  {
   "cell_type": "code",
   "execution_count": 47,
   "metadata": {},
   "outputs": [],
   "source": [
    "prueba2=calculadora(10.87,0) #acá la instancia \"conflictiva\""
   ]
  },
  {
   "cell_type": "code",
   "execution_count": 51,
   "metadata": {},
   "outputs": [
    {
     "name": "stdout",
     "output_type": "stream",
     "text": [
      "La división entre cero está indefinida.\n"
     ]
    }
   ],
   "source": [
    "prueba2.division()"
   ]
  },
  {
   "cell_type": "code",
   "execution_count": 52,
   "metadata": {},
   "outputs": [
    {
     "name": "stdout",
     "output_type": "stream",
     "text": [
      "La división entre cero esta indefinida y por ende su residuo.\n"
     ]
    }
   ],
   "source": [
    "prueba2.modulo()"
   ]
  },
  {
   "cell_type": "markdown",
   "metadata": {},
   "source": [
    "### Ejercicio de puntos extras opcional (1 punto):\n",
    "Supóngamos que tenemos una lista de números enteros y queremos encontrar el número más grande. Por ejemplo, si la lista es `[1, 2, 3, 4, 5]` el número más grande es 5. Crea una función que encuentre el número más grande en una lista de números. La función debe regresar el número más grande y el índice en el que se encuentra. Prueba la función con una lista de números de tu elección."
   ]
  },
  {
   "cell_type": "code",
   "execution_count": 23,
   "metadata": {},
   "outputs": [],
   "source": [
    "def numero_mas_grande(lista):\n",
    "    \"\"\"Función que regresa el número más grande de la lista dada y su posición (contando desde 0).\"\"\"\n",
    "    lista1 = sorted(lista) #creamos una segunda lista tal que es la lista dada ordenada de forma ascendente\n",
    "    for i in range(len(lista)):\n",
    "        if lista[i]==lista1[-1]: #comparamos cada elemento de la lista original con el elemento más grande\n",
    "            print(\"El número más grande es \", lista[i], \"y el índice donde se encuentra es \", i)\n",
    "#no incluí omitir errores donde lo introducido no sea una lista, o alguno de los datos no sea entero por la suposición"
   ]
  },
  {
   "cell_type": "code",
   "execution_count": 24,
   "metadata": {},
   "outputs": [
    {
     "name": "stdout",
     "output_type": "stream",
     "text": [
      "El número más grande es  5 y el índice donde se encuentra es  4\n"
     ]
    }
   ],
   "source": [
    "numero_mas_grande([1,2,3,4,5]) #ejemplo1"
   ]
  },
  {
   "cell_type": "code",
   "execution_count": 83,
   "metadata": {},
   "outputs": [
    {
     "name": "stdout",
     "output_type": "stream",
     "text": [
      "El número más grande es  6055 y el índice donde se encuentra es  1\n",
      "El número más grande es  6055 y el índice donde se encuentra es  12\n"
     ]
    }
   ],
   "source": [
    "numero_mas_grande([25,6055,28,2,-8,-589,365,-154,54,99,7,475,6055,1]) #ejemplo2\n",
    "#Aquí se ve como puede encontrar el número más grande aún si se repite en la lista"
   ]
  },
  {
   "cell_type": "markdown",
   "metadata": {},
   "source": [
    "### Ejercicio de puntos extras opcional (3 puntos):\n",
    "Supóngamos que tenemos un dado convencional de 6 caras. Crea una función que simule el lanzamiento de un dado. La función debe regresar un número aleatorio entre 1 y 6.\n",
    "\n",
    "Sabemos que la probabilidad de que salga un número es de $\\frac{1}{6}$, es decir, la probabilidad de que salga un 1 es de $\\frac{1}{6}$, la probabilidad de que salga un 2 es de $\\frac{1}{6}$, etc.\n",
    "\n",
    "- Prueba la función con 6 lanzamientos, en una celda markdown explica porqué el resultado es dificilmente [1, 2, 3, 4, 5, 6].\n",
    "\n",
    "- Prueba la función con 1000 lanzamientos, crea una grafica de barras de los resultados (investiga como puedes graficar los resultados en una grafica de barras) y explica a que distribucion se parece y porqué es así.\n",
    "\n",
    "Hint: Para crear los números aleatorios, puedes usar la función random.randint(). O bien, usar el modulo numpy para crearlos. Para graficar los resultados, puedes usar la libreria matplotlib, seaborn, plotly o cualquiera que se te haga más fácil."
   ]
  },
  {
   "cell_type": "code",
   "execution_count": 18,
   "metadata": {},
   "outputs": [],
   "source": [
    "import random #necesitamos la librería random\n",
    "def lanza_dado():\n",
    "    \"\"\"La función imprime un número aleatorio entre 1 y 6 apartir de una distribucíón uniforme.\"\"\"\n",
    "    print(random.randint(1,6)) #para los enteros, existe una selección uniforme dentro de un rango"
   ]
  },
  {
   "cell_type": "code",
   "execution_count": 19,
   "metadata": {},
   "outputs": [
    {
     "name": "stdout",
     "output_type": "stream",
     "text": [
      "2\n",
      "1\n",
      "6\n",
      "4\n",
      "2\n",
      "3\n"
     ]
    }
   ],
   "source": [
    "for i in range(6): #6 lanzamientos\n",
    "    lanza_dado()"
   ]
  },
  {
   "cell_type": "markdown",
   "metadata": {},
   "source": [
    "Tomaremos que el resultado $[1,2,3,4,5,6]$ implica que en el primer lanzamiento salió 1, en el segundo lanzamiento salió 2 y así sucesivamente. En el texto del problema se nos explico la probabilidad de sacar los posibles valores del dado en un tiro. Ahora explicaremos que sucede en dos tiros: tanto en el primer como en el segundo lanzamiento se tienen 6 posibles valores, por lo que haciendo las distintas permutaciones de dichos valores [resultado_lanzamiento_1, resultado_lanzamiento_2] obtenemos 36 casos posibles. Dado el planteamiento inicial suponemos que los lanzamientos son distinguibles, por lo que el evento $[1,2] \\neq [2,1]$, así el evento $[1,2]$ tendría una probabilidad de $\\frac{1}{36}$. Esto se formaliza en la teoría de la probabilidad, donde nos dice que la proba de que sucedan dos eventos independientes es la multiplicación de las probas; esto aplica para el evento $[1,2]$. Aplicando el anterior argumento al caso de los 6 lanzamientos, se tiene que la probabilidad del evento $[1,2,3,4,5,6]$ es $\\bigg(\\frac{1}{6}\\bigg)^6=\\frac{1}{46656}$. Por ello es díficil que coincida con el resultado previo."
   ]
  },
  {
   "cell_type": "code",
   "execution_count": 20,
   "metadata": {},
   "outputs": [],
   "source": [
    "def lanza_dado1():#modificamos la función para que nos de solo el valor y no lo imprima\n",
    "    \"\"\"La función arroja un número aleatorio entre 1 y 6 apartir de una distribucíón uniforme.\"\"\"\n",
    "    return random.randint(1,6) #para los enteros, existe una selección uniforme dentro de un rango\n",
    "valores=[] #aquí guardamos el número obtenido\n",
    "for i in range(1000): #modificamos esta parte para que guarde en un arreglo los 1000 valores obtenidos\n",
    "    n=lanza_dado1()\n",
    "    valores.append(n)"
   ]
  },
  {
   "cell_type": "code",
   "execution_count": 21,
   "metadata": {},
   "outputs": [
    {
     "data": {
      "image/png": "[encoded data removed]",
      "text/plain": [
       "<Figure size 432x288 with 1 Axes>"
      ]
     },
     "metadata": {
      "needs_background": "light"
     },
     "output_type": "display_data"
    }
   ],
   "source": [
    "import matplotlib.pyplot as plt #usamos matplotlib\n",
    "plt.hist(valores, bins=[0.5,1.5,2.5,3.5,4.5,5.5,6.5], rwidth=0.8) #especificamos los intervalos de bins para que \n",
    "# se aprecie mejor. También ajustamos el ancho de las barras con rwidth\n",
    "plt.ylabel('Frequencia')\n",
    "plt.xlabel('Valores del dado')\n",
    "plt.title('Histograma de 1000 lanzamientos')\n",
    "plt.show()"
   ]
  },
  {
   "cell_type": "markdown",
   "metadata": {},
   "source": [
    "La gráfica se aproxima a una distribución uniforme y la razón es que cada valor del dado es equiprobable, por los que esperaríamos ver una recta que se aproxime al valor de $167$ de frecuencia ya que es aproximadamente la sexta parte de $1000$."
   ]
  }
 ],
 "metadata": {
  "@webio": {
   "lastCommId": null,
   "lastKernelId": null
  },
  "kernelspec": {
   "display_name": "Python 3",
   "language": "python",
   "name": "python3"
  },
  "language_info": {
   "codemirror_mode": {
    "name": "ipython",
    "version": 3
   },
   "file_extension": ".py",
   "mimetype": "text/x-python",
   "name": "python",
   "nbconvert_exporter": "python",
   "pygments_lexer": "ipython3",
   "version": "3.8.5"
  }
 },
 "nbformat": 4,
 "nbformat_minor": 4
}
